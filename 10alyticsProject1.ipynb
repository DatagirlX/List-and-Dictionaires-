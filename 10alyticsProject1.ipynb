{
 "cells": [
  {
   "cell_type": "code",
   "execution_count": 1,
   "id": "88d5281e",
   "metadata": {},
   "outputs": [
    {
     "name": "stdout",
     "output_type": "stream",
     "text": [
      "Abasiofon!\n"
     ]
    }
   ],
   "source": [
    "print(\"Abasiofon!\")"
   ]
  },
  {
   "cell_type": "code",
   "execution_count": 2,
   "id": "ee35bb69",
   "metadata": {},
   "outputs": [
    {
     "name": "stdout",
     "output_type": "stream",
     "text": [
      "46\n"
     ]
    }
   ],
   "source": [
    "print(46)"
   ]
  },
  {
   "cell_type": "code",
   "execution_count": 3,
   "id": "6745acec",
   "metadata": {},
   "outputs": [],
   "source": [
    "x = 5"
   ]
  },
  {
   "cell_type": "code",
   "execution_count": 4,
   "id": "6a2961fe",
   "metadata": {},
   "outputs": [
    {
     "data": {
      "text/plain": [
       "5"
      ]
     },
     "execution_count": 4,
     "metadata": {},
     "output_type": "execute_result"
    }
   ],
   "source": [
    "x"
   ]
  },
  {
   "cell_type": "code",
   "execution_count": 5,
   "id": "66170b20",
   "metadata": {},
   "outputs": [],
   "source": [
    "y = \"john\""
   ]
  },
  {
   "cell_type": "code",
   "execution_count": 6,
   "id": "00089d93",
   "metadata": {},
   "outputs": [
    {
     "data": {
      "text/plain": [
       "'john'"
      ]
     },
     "execution_count": 6,
     "metadata": {},
     "output_type": "execute_result"
    }
   ],
   "source": [
    "y\n"
   ]
  },
  {
   "cell_type": "code",
   "execution_count": 7,
   "id": "3adb509c",
   "metadata": {},
   "outputs": [
    {
     "name": "stdout",
     "output_type": "stream",
     "text": [
      "john\n"
     ]
    }
   ],
   "source": [
    "print(y)"
   ]
  },
  {
   "cell_type": "code",
   "execution_count": 8,
   "id": "4fe5c00c",
   "metadata": {},
   "outputs": [
    {
     "data": {
      "text/plain": [
       "60"
      ]
     },
     "execution_count": 8,
     "metadata": {},
     "output_type": "execute_result"
    }
   ],
   "source": [
    "test = 6\n",
    "exam = 50\n",
    "attendance = 4\n",
    "total_score = test + exam + attendance \n",
    "total_score"
   ]
  },
  {
   "cell_type": "code",
   "execution_count": 9,
   "id": "5c5115d1",
   "metadata": {},
   "outputs": [
    {
     "name": "stdout",
     "output_type": "stream",
     "text": [
      " What is your score for the test: 20\n",
      "what is your score for exam: 20\n",
      "what is your score for attendance: 50\n"
     ]
    },
    {
     "data": {
      "text/plain": [
       "90"
      ]
     },
     "execution_count": 9,
     "metadata": {},
     "output_type": "execute_result"
    }
   ],
   "source": [
    "test2 = int(input(\" What is your score for the test: \"))\n",
    "exam2 = int(input(\"what is your score for exam: \"))\n",
    "attendance2 = int(input(\"what is your score for attendance: \") )\n",
    "total_score2 = test2 + exam2 + attendance2\n",
    "total_score2"
   ]
  },
  {
   "cell_type": "code",
   "execution_count": 10,
   "id": "cbe3cb46",
   "metadata": {},
   "outputs": [
    {
     "name": "stdout",
     "output_type": "stream",
     "text": [
      "90\n"
     ]
    }
   ],
   "source": [
    "print(total_score2)"
   ]
  },
  {
   "cell_type": "code",
   "execution_count": 11,
   "id": "e9a39210",
   "metadata": {},
   "outputs": [
    {
     "data": {
      "text/plain": [
       "int"
      ]
     },
     "execution_count": 11,
     "metadata": {},
     "output_type": "execute_result"
    }
   ],
   "source": [
    "type(total_score)"
   ]
  },
  {
   "cell_type": "code",
   "execution_count": 12,
   "id": "7f308efa",
   "metadata": {},
   "outputs": [],
   "source": [
    "y = \"I  am a good girl\"\n",
    "x = \"\"\"I am in a Data Science class\"\"\""
   ]
  },
  {
   "cell_type": "code",
   "execution_count": 13,
   "id": "82257138",
   "metadata": {},
   "outputs": [
    {
     "data": {
      "text/plain": [
       "str"
      ]
     },
     "execution_count": 13,
     "metadata": {},
     "output_type": "execute_result"
    }
   ],
   "source": [
    "type(y)"
   ]
  },
  {
   "cell_type": "code",
   "execution_count": 15,
   "id": "91a65d93",
   "metadata": {},
   "outputs": [
    {
     "data": {
      "text/plain": [
       "str"
      ]
     },
     "execution_count": 15,
     "metadata": {},
     "output_type": "execute_result"
    }
   ],
   "source": [
    "type(x)"
   ]
  },
  {
   "cell_type": "code",
   "execution_count": 17,
   "id": "6444c7c8",
   "metadata": {},
   "outputs": [
    {
     "data": {
      "text/plain": [
       "28"
      ]
     },
     "execution_count": 17,
     "metadata": {},
     "output_type": "execute_result"
    }
   ],
   "source": [
    "len(x)"
   ]
  },
  {
   "cell_type": "code",
   "execution_count": 19,
   "id": "19dc0d99",
   "metadata": {},
   "outputs": [
    {
     "data": {
      "text/plain": [
       "17"
      ]
     },
     "execution_count": 19,
     "metadata": {},
     "output_type": "execute_result"
    }
   ],
   "source": [
    "len(y)"
   ]
  },
  {
   "cell_type": "code",
   "execution_count": 21,
   "id": "197e92e0",
   "metadata": {},
   "outputs": [
    {
     "name": "stdout",
     "output_type": "stream",
     "text": [
      " what is your first nameAbasiofon\n",
      " what is your second nameMoses\n"
     ]
    },
    {
     "data": {
      "text/plain": [
       "'Abasiofon Moses'"
      ]
     },
     "execution_count": 21,
     "metadata": {},
     "output_type": "execute_result"
    }
   ],
   "source": [
    "first_name = input(\" what is your first name\")\n",
    "second_name = input(\" what is your second name\")\n",
    "full_name = first_name + \" \" + second_name\n",
    "full_name"
   ]
  },
  {
   "cell_type": "code",
   "execution_count": 23,
   "id": "72f92948",
   "metadata": {},
   "outputs": [
    {
     "data": {
      "text/plain": [
       "float"
      ]
     },
     "execution_count": 23,
     "metadata": {},
     "output_type": "execute_result"
    }
   ],
   "source": [
    "3.0\n",
    "4.9\n",
    "type(4.9)"
   ]
  },
  {
   "cell_type": "code",
   "execution_count": 25,
   "id": "a33e3f72",
   "metadata": {},
   "outputs": [
    {
     "name": "stdout",
     "output_type": "stream",
     "text": [
      "True\n"
     ]
    }
   ],
   "source": [
    "print(10 > 9)"
   ]
  },
  {
   "cell_type": "code",
   "execution_count": 28,
   "id": "3c1ce495",
   "metadata": {},
   "outputs": [
    {
     "name": "stdout",
     "output_type": "stream",
     "text": [
      "False\n"
     ]
    }
   ],
   "source": [
    "print (10 == 19)"
   ]
  },
  {
   "cell_type": "code",
   "execution_count": 31,
   "id": "47d5bc2b",
   "metadata": {},
   "outputs": [
    {
     "name": "stdout",
     "output_type": "stream",
     "text": [
      "['Abasiofon', 'Usen', 'Victoria', 'Imoh']\n"
     ]
    }
   ],
   "source": [
    "name = [\"Abasiofon\", \"Usen\", \"Victoria\", \"Imoh\"]\n",
    "print(name)"
   ]
  },
  {
   "cell_type": "code",
   "execution_count": 33,
   "id": "0b0be6e7",
   "metadata": {},
   "outputs": [
    {
     "name": "stdout",
     "output_type": "stream",
     "text": [
      "[2, 4, 5, 7, 8]\n"
     ]
    }
   ],
   "source": [
    "age = [2, 4,5, 7, 8]\n",
    "print(age)\n"
   ]
  },
  {
   "cell_type": "code",
   "execution_count": 35,
   "id": "43846cbb",
   "metadata": {},
   "outputs": [
    {
     "name": "stdout",
     "output_type": "stream",
     "text": [
      "['Abasiofon', 9, 'is', 4, 'a', 6, 'good', 2, 'girl']\n"
     ]
    }
   ],
   "source": [
    "mylist = [\"Abasiofon\", 9, \"is\", 4, \"a\", 6, \"good\", 2, \"girl\"]\n",
    "print(mylist)"
   ]
  },
  {
   "cell_type": "code",
   "execution_count": 37,
   "id": "db0b2ad0",
   "metadata": {},
   "outputs": [
    {
     "data": {
      "text/plain": [
       "list"
      ]
     },
     "execution_count": 37,
     "metadata": {},
     "output_type": "execute_result"
    }
   ],
   "source": [
    "type(mylist)"
   ]
  },
  {
   "cell_type": "code",
   "execution_count": 39,
   "id": "f1ef18e7",
   "metadata": {},
   "outputs": [
    {
     "data": {
      "text/plain": [
       "9"
      ]
     },
     "execution_count": 39,
     "metadata": {},
     "output_type": "execute_result"
    }
   ],
   "source": [
    "len(mylist)"
   ]
  },
  {
   "cell_type": "code",
   "execution_count": 3,
   "id": "8d60dace",
   "metadata": {},
   "outputs": [
    {
     "data": {
      "text/plain": [
       "-4"
      ]
     },
     "execution_count": 3,
     "metadata": {},
     "output_type": "execute_result"
    }
   ],
   "source": [
    "2+6-12"
   ]
  },
  {
   "cell_type": "code",
   "execution_count": 6,
   "id": "544a2381",
   "metadata": {},
   "outputs": [
    {
     "data": {
      "text/plain": [
       "4"
      ]
     },
     "execution_count": 6,
     "metadata": {},
     "output_type": "execute_result"
    }
   ],
   "source": [
    "4*3-8"
   ]
  },
  {
   "cell_type": "code",
   "execution_count": 8,
   "id": "f3e7c196",
   "metadata": {},
   "outputs": [
    {
     "data": {
      "text/plain": [
       "13.5"
      ]
     },
     "execution_count": 8,
     "metadata": {},
     "output_type": "execute_result"
    }
   ],
   "source": [
    "81/6"
   ]
  },
  {
   "cell_type": "code",
   "execution_count": 12,
   "id": "edb29403",
   "metadata": {},
   "outputs": [
    {
     "data": {
      "text/plain": [
       "1"
      ]
     },
     "execution_count": 12,
     "metadata": {},
     "output_type": "execute_result"
    }
   ],
   "source": [
    "9 % 2"
   ]
  },
  {
   "cell_type": "code",
   "execution_count": 14,
   "id": "fe82a50e",
   "metadata": {},
   "outputs": [
    {
     "data": {
      "text/plain": [
       "0"
      ]
     },
     "execution_count": 14,
     "metadata": {},
     "output_type": "execute_result"
    }
   ],
   "source": [
    "16%2\n"
   ]
  },
  {
   "cell_type": "code",
   "execution_count": 16,
   "id": "1e4c8883",
   "metadata": {},
   "outputs": [
    {
     "data": {
      "text/plain": [
       "8"
      ]
     },
     "execution_count": 16,
     "metadata": {},
     "output_type": "execute_result"
    }
   ],
   "source": [
    "2**3"
   ]
  },
  {
   "cell_type": "code",
   "execution_count": 19,
   "id": "8b391b47",
   "metadata": {},
   "outputs": [
    {
     "data": {
      "text/plain": [
       "2"
      ]
     },
     "execution_count": 19,
     "metadata": {},
     "output_type": "execute_result"
    }
   ],
   "source": [
    "11//5"
   ]
  },
  {
   "cell_type": "code",
   "execution_count": 23,
   "id": "fb35958e",
   "metadata": {},
   "outputs": [],
   "source": [
    "my_list = ['Abasiofon', 9, 'is', 4, 'a', 6, 'good', 2, 'girl']"
   ]
  },
  {
   "cell_type": "code",
   "execution_count": 25,
   "id": "e013c239",
   "metadata": {},
   "outputs": [
    {
     "data": {
      "text/plain": [
       "'Abasiofon'"
      ]
     },
     "execution_count": 25,
     "metadata": {},
     "output_type": "execute_result"
    }
   ],
   "source": [
    "my_list[0]"
   ]
  },
  {
   "cell_type": "code",
   "execution_count": 27,
   "id": "b9e707e4",
   "metadata": {},
   "outputs": [
    {
     "data": {
      "text/plain": [
       "'good'"
      ]
     },
     "execution_count": 27,
     "metadata": {},
     "output_type": "execute_result"
    }
   ],
   "source": [
    "my_list[6]"
   ]
  },
  {
   "cell_type": "code",
   "execution_count": 29,
   "id": "dfcda61a",
   "metadata": {},
   "outputs": [
    {
     "data": {
      "text/plain": [
       "'good'"
      ]
     },
     "execution_count": 29,
     "metadata": {},
     "output_type": "execute_result"
    }
   ],
   "source": [
    "my_list[-3]"
   ]
  },
  {
   "cell_type": "code",
   "execution_count": 31,
   "id": "750f512f",
   "metadata": {},
   "outputs": [
    {
     "data": {
      "text/plain": [
       "['Abasiofon', 9, 'is', 4, 'a', 6, 'good', 2, 'girl']"
      ]
     },
     "execution_count": 31,
     "metadata": {},
     "output_type": "execute_result"
    }
   ],
   "source": [
    "my_list[:]"
   ]
  },
  {
   "cell_type": "code",
   "execution_count": 33,
   "id": "5bdc5f1b",
   "metadata": {},
   "outputs": [
    {
     "data": {
      "text/plain": [
       "['Abasiofon', 9]"
      ]
     },
     "execution_count": 33,
     "metadata": {},
     "output_type": "execute_result"
    }
   ],
   "source": [
    "my_list[:2]"
   ]
  },
  {
   "cell_type": "code",
   "execution_count": 36,
   "id": "ce46a95a",
   "metadata": {},
   "outputs": [
    {
     "data": {
      "text/plain": [
       "[9, 'a']"
      ]
     },
     "execution_count": 36,
     "metadata": {},
     "output_type": "execute_result"
    }
   ],
   "source": [
    "my_list[1:6:3]"
   ]
  },
  {
   "cell_type": "code",
   "execution_count": 38,
   "id": "c3b2209d",
   "metadata": {},
   "outputs": [
    {
     "data": {
      "text/plain": [
       "[9, 'is', 4, 'a', 6]"
      ]
     },
     "execution_count": 38,
     "metadata": {},
     "output_type": "execute_result"
    }
   ],
   "source": [
    "my_list[1:6]"
   ]
  },
  {
   "cell_type": "code",
   "execution_count": 41,
   "id": "2c3c3bdb",
   "metadata": {},
   "outputs": [
    {
     "data": {
      "text/plain": [
       "2"
      ]
     },
     "execution_count": 41,
     "metadata": {},
     "output_type": "execute_result"
    }
   ],
   "source": [
    "import numpy\n",
    "int(numpy.sqrt(4))"
   ]
  },
  {
   "cell_type": "code",
   "execution_count": 43,
   "id": "5cadb443",
   "metadata": {},
   "outputs": [],
   "source": [
    "#built in methods for strings"
   ]
  },
  {
   "cell_type": "code",
   "execution_count": 45,
   "id": "1a9ee6e2",
   "metadata": {},
   "outputs": [
    {
     "data": {
      "text/plain": [
       "'Nigeria'"
      ]
     },
     "execution_count": 45,
     "metadata": {},
     "output_type": "execute_result"
    }
   ],
   "source": [
    "country = \"nigeria\"\n",
    "country.title()"
   ]
  },
  {
   "cell_type": "code",
   "execution_count": 47,
   "id": "7af47c30",
   "metadata": {},
   "outputs": [
    {
     "data": {
      "text/plain": [
       "'NIGERIA'"
      ]
     },
     "execution_count": 47,
     "metadata": {},
     "output_type": "execute_result"
    }
   ],
   "source": [
    "country.upper()"
   ]
  },
  {
   "cell_type": "code",
   "execution_count": 50,
   "id": "aca08a50",
   "metadata": {},
   "outputs": [
    {
     "data": {
      "text/plain": [
       "'Nigeria'"
      ]
     },
     "execution_count": 50,
     "metadata": {},
     "output_type": "execute_result"
    }
   ],
   "source": [
    "country.capitalize()"
   ]
  },
  {
   "cell_type": "code",
   "execution_count": 52,
   "id": "6a6660bc",
   "metadata": {},
   "outputs": [
    {
     "data": {
      "text/plain": [
       "['Abasiofon']"
      ]
     },
     "execution_count": 52,
     "metadata": {},
     "output_type": "execute_result"
    }
   ],
   "source": [
    "#built-in methond for list\n",
    "data_science_class = [\"Abasiofon\"]\n",
    "data_science_class\n"
   ]
  },
  {
   "cell_type": "code",
   "execution_count": 54,
   "id": "be7399aa",
   "metadata": {},
   "outputs": [],
   "source": [
    "data_science_class.append(\"Adedoyin\")"
   ]
  },
  {
   "cell_type": "code",
   "execution_count": 57,
   "id": "45b940b1",
   "metadata": {},
   "outputs": [],
   "source": [
    "data_science_class.append([\"Ime\", \"Moses\"])"
   ]
  },
  {
   "cell_type": "code",
   "execution_count": 59,
   "id": "4798dc19",
   "metadata": {},
   "outputs": [
    {
     "data": {
      "text/plain": [
       "['Abasiofon', 'Adedoyin', 'Adedoyin', ['Ime', 'Moses'], ['Ime', 'Moses']]"
      ]
     },
     "execution_count": 59,
     "metadata": {},
     "output_type": "execute_result"
    }
   ],
   "source": [
    "data_science_class"
   ]
  },
  {
   "cell_type": "code",
   "execution_count": 61,
   "id": "01263fc0",
   "metadata": {},
   "outputs": [],
   "source": [
    "data_science_class.extend([\"Inyang\" \"Beulah\"])"
   ]
  },
  {
   "cell_type": "code",
   "execution_count": 63,
   "id": "1c9f32c6",
   "metadata": {},
   "outputs": [
    {
     "data": {
      "text/plain": [
       "['Abasiofon',\n",
       " 'Adedoyin',\n",
       " 'Adedoyin',\n",
       " ['Ime', 'Moses'],\n",
       " ['Ime', 'Moses'],\n",
       " 'InyangBeulah',\n",
       " 'InyangBeulah']"
      ]
     },
     "execution_count": 63,
     "metadata": {},
     "output_type": "execute_result"
    }
   ],
   "source": [
    "data_science_class"
   ]
  },
  {
   "cell_type": "code",
   "execution_count": 65,
   "id": "c0272cd9",
   "metadata": {},
   "outputs": [
    {
     "data": {
      "text/plain": [
       "'Adedoyin'"
      ]
     },
     "execution_count": 65,
     "metadata": {},
     "output_type": "execute_result"
    }
   ],
   "source": [
    "data_science_class.pop(1)\n"
   ]
  },
  {
   "cell_type": "code",
   "execution_count": 67,
   "id": "d14576ec",
   "metadata": {},
   "outputs": [
    {
     "data": {
      "text/plain": [
       "['Abasiofon',\n",
       " ['Ime', 'Moses'],\n",
       " ['Ime', 'Moses'],\n",
       " 'InyangBeulah',\n",
       " 'InyangBeulah']"
      ]
     },
     "execution_count": 67,
     "metadata": {},
     "output_type": "execute_result"
    }
   ],
   "source": [
    "data_science_class"
   ]
  },
  {
   "cell_type": "code",
   "execution_count": 69,
   "id": "d7492604",
   "metadata": {},
   "outputs": [
    {
     "data": {
      "text/plain": [
       "['Ime', 'Moses']"
      ]
     },
     "execution_count": 69,
     "metadata": {},
     "output_type": "execute_result"
    }
   ],
   "source": [
    "data_science_class[1]"
   ]
  },
  {
   "cell_type": "code",
   "execution_count": 71,
   "id": "fb48c775",
   "metadata": {},
   "outputs": [],
   "source": [
    "number = [ 4, 9, 2, 4, 84, 92, 49]"
   ]
  },
  {
   "cell_type": "code",
   "execution_count": 73,
   "id": "5bbad589",
   "metadata": {},
   "outputs": [],
   "source": [
    "number.sort()"
   ]
  },
  {
   "cell_type": "code",
   "execution_count": 75,
   "id": "78c79dfd",
   "metadata": {},
   "outputs": [
    {
     "data": {
      "text/plain": [
       "[2, 4, 4, 9, 49, 84, 92]"
      ]
     },
     "execution_count": 75,
     "metadata": {},
     "output_type": "execute_result"
    }
   ],
   "source": [
    "number"
   ]
  },
  {
   "cell_type": "code",
   "execution_count": 77,
   "id": "e175cb12",
   "metadata": {},
   "outputs": [],
   "source": [
    "number.reverse()"
   ]
  },
  {
   "cell_type": "code",
   "execution_count": 79,
   "id": "9c2f12cb",
   "metadata": {},
   "outputs": [
    {
     "data": {
      "text/plain": [
       "[2, 4, 4, 9, 49, 84, 92]"
      ]
     },
     "execution_count": 79,
     "metadata": {},
     "output_type": "execute_result"
    }
   ],
   "source": [
    "number"
   ]
  },
  {
   "cell_type": "code",
   "execution_count": 82,
   "id": "155ecd99",
   "metadata": {},
   "outputs": [
    {
     "data": {
      "text/plain": [
       "[92, 84, 49, 9, 4, 4, 2]"
      ]
     },
     "execution_count": 82,
     "metadata": {},
     "output_type": "execute_result"
    }
   ],
   "source": [
    "number.reverse()\n",
    "number"
   ]
  },
  {
   "cell_type": "code",
   "execution_count": 84,
   "id": "687fa35b",
   "metadata": {},
   "outputs": [],
   "source": [
    "data_science_class.insert(1, \"APWEN\")"
   ]
  },
  {
   "cell_type": "code",
   "execution_count": 86,
   "id": "24c4c229",
   "metadata": {},
   "outputs": [
    {
     "data": {
      "text/plain": [
       "['Abasiofon',\n",
       " 'APWEN',\n",
       " 'APWEN',\n",
       " ['Ime', 'Moses'],\n",
       " ['Ime', 'Moses'],\n",
       " 'InyangBeulah',\n",
       " 'InyangBeulah']"
      ]
     },
     "execution_count": 86,
     "metadata": {},
     "output_type": "execute_result"
    }
   ],
   "source": [
    "data_science_class"
   ]
  },
  {
   "cell_type": "code",
   "execution_count": 88,
   "id": "af832b96",
   "metadata": {},
   "outputs": [
    {
     "data": {
      "text/plain": [
       "1"
      ]
     },
     "execution_count": 88,
     "metadata": {},
     "output_type": "execute_result"
    }
   ],
   "source": [
    "data_science_class.index(\"APWEN\")"
   ]
  },
  {
   "cell_type": "code",
   "execution_count": 90,
   "id": "5f3b52c0",
   "metadata": {},
   "outputs": [],
   "source": [
    "data_science_class.remove(\"InyangBeulah\")"
   ]
  },
  {
   "cell_type": "code",
   "execution_count": 92,
   "id": "6a95c1b2",
   "metadata": {},
   "outputs": [
    {
     "data": {
      "text/plain": [
       "['Abasiofon', 'APWEN', 'APWEN', ['Ime', 'Moses'], ['Ime', 'Moses']]"
      ]
     },
     "execution_count": 92,
     "metadata": {},
     "output_type": "execute_result"
    }
   ],
   "source": [
    "data_science_class"
   ]
  },
  {
   "cell_type": "code",
   "execution_count": 95,
   "id": "5df5a625",
   "metadata": {},
   "outputs": [],
   "source": [
    "def typo(stuff):\n",
    "    ans = stuff + 4\n",
    "    return ans"
   ]
  },
  {
   "cell_type": "code",
   "execution_count": 97,
   "id": "36418282",
   "metadata": {},
   "outputs": [
    {
     "data": {
      "text/plain": [
       "7"
      ]
     },
     "execution_count": 97,
     "metadata": {},
     "output_type": "execute_result"
    }
   ],
   "source": [
    "typo(3)"
   ]
  },
  {
   "cell_type": "code",
   "execution_count": 99,
   "id": "7c85ac19",
   "metadata": {},
   "outputs": [],
   "source": [
    "love = [\"Beauty\", \"Grace\", \"Wisdon\", \"Justice\"]"
   ]
  },
  {
   "cell_type": "code",
   "execution_count": 101,
   "id": "0e57e92c",
   "metadata": {},
   "outputs": [],
   "source": [
    "data_science_class.extend(love)"
   ]
  },
  {
   "cell_type": "code",
   "execution_count": 103,
   "id": "e0c5853f",
   "metadata": {},
   "outputs": [
    {
     "data": {
      "text/plain": [
       "['Abasiofon',\n",
       " 'APWEN',\n",
       " 'APWEN',\n",
       " ['Ime', 'Moses'],\n",
       " ['Ime', 'Moses'],\n",
       " 'Beauty',\n",
       " 'Grace',\n",
       " 'Wisdon',\n",
       " 'Justice',\n",
       " 'Beauty',\n",
       " 'Grace',\n",
       " 'Wisdon',\n",
       " 'Justice']"
      ]
     },
     "execution_count": 103,
     "metadata": {},
     "output_type": "execute_result"
    }
   ],
   "source": [
    "data_science_class"
   ]
  },
  {
   "cell_type": "code",
   "execution_count": 106,
   "id": "ef4311be",
   "metadata": {},
   "outputs": [
    {
     "data": {
      "text/plain": [
       "True"
      ]
     },
     "execution_count": 106,
     "metadata": {},
     "output_type": "execute_result"
    }
   ],
   "source": [
    "10 > 9\n"
   ]
  },
  {
   "cell_type": "code",
   "execution_count": 108,
   "id": "81cce401",
   "metadata": {},
   "outputs": [
    {
     "data": {
      "text/plain": [
       "False"
      ]
     },
     "execution_count": 108,
     "metadata": {},
     "output_type": "execute_result"
    }
   ],
   "source": [
    "12<4"
   ]
  },
  {
   "cell_type": "code",
   "execution_count": 110,
   "id": "9cd63c68",
   "metadata": {},
   "outputs": [],
   "source": [
    "customer = {\"name\":\"Chisom\", \"age\": 35, \"address\": \"no 420 kolebaje str lekki lagos\", \"phone_no\":\"08374686373\",}"
   ]
  },
  {
   "cell_type": "code",
   "execution_count": 112,
   "id": "4bf8c9a7",
   "metadata": {},
   "outputs": [
    {
     "data": {
      "text/plain": [
       "{'name': 'Chisom',\n",
       " 'age': 35,\n",
       " 'address': 'no 420 kolebaje str lekki lagos',\n",
       " 'phone_no': '08374686373'}"
      ]
     },
     "execution_count": 112,
     "metadata": {},
     "output_type": "execute_result"
    }
   ],
   "source": [
    "customer"
   ]
  },
  {
   "cell_type": "code",
   "execution_count": 114,
   "id": "1b570520",
   "metadata": {},
   "outputs": [
    {
     "data": {
      "text/plain": [
       "'Chisom'"
      ]
     },
     "execution_count": 114,
     "metadata": {},
     "output_type": "execute_result"
    }
   ],
   "source": [
    "hodl= customer[\"name\"]\n",
    "hodl"
   ]
  },
  {
   "cell_type": "code",
   "execution_count": 116,
   "id": "07bcb1ee",
   "metadata": {},
   "outputs": [
    {
     "data": {
      "text/plain": [
       "'Chisom'"
      ]
     },
     "execution_count": 116,
     "metadata": {},
     "output_type": "execute_result"
    }
   ],
   "source": [
    "customer[\"name\"]"
   ]
  },
  {
   "cell_type": "code",
   "execution_count": 118,
   "id": "a7961766",
   "metadata": {},
   "outputs": [
    {
     "data": {
      "text/plain": [
       "'hisom'"
      ]
     },
     "execution_count": 118,
     "metadata": {},
     "output_type": "execute_result"
    }
   ],
   "source": [
    "customer[\"name\"][1:]"
   ]
  },
  {
   "cell_type": "code",
   "execution_count": 120,
   "id": "ae62a3dc",
   "metadata": {},
   "outputs": [
    {
     "data": {
      "text/plain": [
       "dict"
      ]
     },
     "execution_count": 120,
     "metadata": {},
     "output_type": "execute_result"
    }
   ],
   "source": [
    "type(customer)"
   ]
  },
  {
   "cell_type": "code",
   "execution_count": 122,
   "id": "605edd4e",
   "metadata": {},
   "outputs": [
    {
     "data": {
      "text/plain": [
       "str"
      ]
     },
     "execution_count": 122,
     "metadata": {},
     "output_type": "execute_result"
    }
   ],
   "source": [
    "type(hodl)"
   ]
  },
  {
   "cell_type": "code",
   "execution_count": 124,
   "id": "cf3f3409",
   "metadata": {},
   "outputs": [
    {
     "data": {
      "text/plain": [
       "dict_keys(['name', 'age', 'address', 'phone_no'])"
      ]
     },
     "execution_count": 124,
     "metadata": {},
     "output_type": "execute_result"
    }
   ],
   "source": [
    "customer.keys()"
   ]
  },
  {
   "cell_type": "code",
   "execution_count": 126,
   "id": "cf115290",
   "metadata": {},
   "outputs": [
    {
     "data": {
      "text/plain": [
       "dict_values(['Chisom', 35, 'no 420 kolebaje str lekki lagos', '08374686373'])"
      ]
     },
     "execution_count": 126,
     "metadata": {},
     "output_type": "execute_result"
    }
   ],
   "source": [
    "customer.values()"
   ]
  },
  {
   "cell_type": "code",
   "execution_count": 129,
   "id": "f7f3f914",
   "metadata": {},
   "outputs": [
    {
     "name": "stdout",
     "output_type": "stream",
     "text": [
      "what is your name:Abasiofon\n",
      "what is your fixed cost:200\n",
      "what is your variable cost: 300\n"
     ]
    },
    {
     "data": {
      "text/plain": [
       "500"
      ]
     },
     "execution_count": 129,
     "metadata": {},
     "output_type": "execute_result"
    }
   ],
   "source": [
    "item = input (\"what is your name:\")\n",
    "fixed_cost = int(input(\"what is your fixed cost:\"))\n",
    "variable_cost = int(input(\"what is your variable cost: \"))\n",
    "total_cost = fixed_cost + variable_cost\n",
    "total_cost"
   ]
  },
  {
   "cell_type": "code",
   "execution_count": 133,
   "id": "04a5d0f5",
   "metadata": {},
   "outputs": [
    {
     "name": "stdout",
     "output_type": "stream",
     "text": [
      "what is your total amount:10000\n",
      "what is your tax_percent:0.1\n"
     ]
    },
    {
     "data": {
      "text/plain": [
       "9000.0"
      ]
     },
     "execution_count": 133,
     "metadata": {},
     "output_type": "execute_result"
    }
   ],
   "source": [
    "total = int(input(\"what is your total amount:\"))\n",
    "tax_percent = float(input(\"what is your tax_percent:\"))\n",
    "tax_amount = tax_percent * total\n",
    "grand_total = total - tax_amount\n",
    "grand_total"
   ]
  },
  {
   "cell_type": "code",
   "execution_count": 135,
   "id": "35538cd9",
   "metadata": {},
   "outputs": [],
   "source": [
    "cost[\"name\"] = item\n",
    "cost[\"fixed_cost\"] = fixed_cost\n",
    "cost[\"variable_cost\"] = variable_cost\n",
    "cost[\"total_cost\"] = total_cost"
   ]
  },
  {
   "cell_type": "code",
   "execution_count": 137,
   "id": "cea5252d",
   "metadata": {},
   "outputs": [
    {
     "data": {
      "text/plain": [
       "{'name': 'Abasiofon',\n",
       " 'fixed_cost': 200,\n",
       " 'variable_cost': 300,\n",
       " 'total_cost': 500}"
      ]
     },
     "execution_count": 137,
     "metadata": {},
     "output_type": "execute_result"
    }
   ],
   "source": [
    "cost"
   ]
  },
  {
   "cell_type": "code",
   "execution_count": 139,
   "id": "26461b75",
   "metadata": {},
   "outputs": [
    {
     "data": {
      "text/plain": [
       "True"
      ]
     },
     "execution_count": 139,
     "metadata": {},
     "output_type": "execute_result"
    }
   ],
   "source": [
    "18 ==18"
   ]
  },
  {
   "cell_type": "code",
   "execution_count": 142,
   "id": "b6596645",
   "metadata": {},
   "outputs": [
    {
     "data": {
      "text/plain": [
       "True"
      ]
     },
     "execution_count": 142,
     "metadata": {},
     "output_type": "execute_result"
    }
   ],
   "source": [
    "12 != 10"
   ]
  },
  {
   "cell_type": "code",
   "execution_count": 144,
   "id": "31afe9dc",
   "metadata": {},
   "outputs": [
    {
     "data": {
      "text/plain": [
       "False"
      ]
     },
     "execution_count": 144,
     "metadata": {},
     "output_type": "execute_result"
    }
   ],
   "source": [
    "2 > 9"
   ]
  },
  {
   "cell_type": "code",
   "execution_count": 147,
   "id": "76896343",
   "metadata": {},
   "outputs": [
    {
     "name": "stdout",
     "output_type": "stream",
     "text": [
      " What is your name? Abasiofon\n",
      "You are most welciome\n"
     ]
    }
   ],
   "source": [
    "name = input (\" What is your name? \")\n",
    "if name == \"Abasiofon\":\n",
    "    print(\"You are most welcome\")\n",
    "else:\n",
    "    print(\" I am sorry, you are not welcome\")"
   ]
  },
  {
   "cell_type": "code",
   "execution_count": 148,
   "id": "7ba524d3",
   "metadata": {},
   "outputs": [
    {
     "name": "stdout",
     "output_type": "stream",
     "text": [
      "What is your name:Abasiofon\n",
      "what is your test score20\n",
      "what is your second test score20\n",
      "what is the score for your attendance10\n",
      "what is the score for your exam50\n",
      "-----------------------------------\n",
      "Hello Abasiofon, Your total score is 100 and your grade is A\n"
     ]
    }
   ],
   "source": [
    "name = input(\"What is your name:\")\n",
    "test = int(input(\"what is your test score\"))\n",
    "second_test = int(input(\"what is your second test score\"))\n",
    "attendance = int(input(\"what is the score for your attendance\"))\n",
    "exam = int(input(\"what is the score for your exam\"))\n",
    "print('-----------------------------------')\n",
    "total_score = test + second_test + attendance +exam\n",
    "\n",
    "if total_score >= 70:\n",
    "    grade = \"A\"\n",
    "elif total_score >= 60:\n",
    "    grade = \"B\"\n",
    "elif total_score >= 50:\n",
    "    grade = \"C\"\n",
    "elif total_score >= 45:\n",
    "    grade = \"D\"\n",
    "elif total_score >= 40:\n",
    "    grade = \"E\"\n",
    "else:\n",
    "    grade = \"F\"\n",
    "    \n",
    "print(f\"Hello {name}, Your total score is {total_score} and your grade is {grade}\")\n"
   ]
  },
  {
   "cell_type": "code",
   "execution_count": 149,
   "id": "6d501698",
   "metadata": {},
   "outputs": [],
   "source": [
    "#for loop"
   ]
  },
  {
   "cell_type": "code",
   "execution_count": 152,
   "id": "30acc20e",
   "metadata": {},
   "outputs": [
    {
     "name": "stdout",
     "output_type": "stream",
     "text": [
      "3\n",
      "2\n",
      "7\n",
      "4\n",
      "9\n",
      "1\n",
      "0\n"
     ]
    }
   ],
   "source": [
    "listf = [ 3, 2, 7, 4, 9, 1, 0]\n",
    "for num in listf:\n",
    "    print(num)"
   ]
  },
  {
   "cell_type": "code",
   "execution_count": 154,
   "id": "bec17934",
   "metadata": {},
   "outputs": [
    {
     "name": "stdout",
     "output_type": "stream",
     "text": [
      "2 is an even number\n",
      "4 is an even number\n",
      "6 is an even number\n",
      "8 is an even number\n",
      "10 is an even number\n"
     ]
    }
   ],
   "source": [
    "list1 = [2, 3,4,5,6,7, 8,9,10]\n",
    "for x in list1:\n",
    "    if x % 2 == 0:\n",
    "        print(f\"{x} is an even number\")"
   ]
  },
  {
   "cell_type": "code",
   "execution_count": 2,
   "id": "eb9865ab",
   "metadata": {},
   "outputs": [
    {
     "name": "stdout",
     "output_type": "stream",
     "text": [
      "6\n",
      "7\n",
      "8\n",
      "9\n",
      "10\n",
      "11\n",
      "12\n",
      "13\n",
      "14\n",
      "15\n"
     ]
    }
   ],
   "source": [
    "list2 = [1,2,3,4,5,6,7,8,9,10]\n",
    "sum_list = 5\n",
    "\n",
    "for i in list2:\n",
    "    sum = sum_list + i\n",
    "    print(sum)"
   ]
  },
  {
   "cell_type": "code",
   "execution_count": 3,
   "id": "1b404af9",
   "metadata": {},
   "outputs": [],
   "source": [
    "#while loop"
   ]
  },
  {
   "cell_type": "code",
   "execution_count": 5,
   "id": "5119e421",
   "metadata": {},
   "outputs": [
    {
     "name": "stdout",
     "output_type": "stream",
     "text": [
      "what is your nameAbasiofon\n",
      "Abasiofon is a very intelligent and smart girl\n",
      "what is your name?Moses\n"
     ]
    }
   ],
   "source": [
    "name = input(\"what is your name\")\n",
    "while name == \"Abasiofon\":\n",
    "    print(\"Abasiofon is a very intelligent and smart girl\")\n",
    "    name = input(\"what is your name?\")"
   ]
  },
  {
   "cell_type": "code",
   "execution_count": 6,
   "id": "d2126f7e",
   "metadata": {},
   "outputs": [
    {
     "name": "stdout",
     "output_type": "stream",
     "text": [
      "0 is currently less than 10\n",
      "1 is currently less than 10\n",
      "2 is currently less than 10\n",
      "3 is currently less than 10\n",
      "4 is currently less than 10\n",
      "5 is currently less than 10\n",
      "6 is currently less than 10\n",
      "7 is currently less than 10\n",
      "8 is currently less than 10\n",
      "9 is currently less than 10\n"
     ]
    }
   ],
   "source": [
    "x = 0\n",
    "while x < 10:\n",
    "    print(f\"{x} is currently less than 10\")\n",
    "    x = x + 1"
   ]
  },
  {
   "cell_type": "code",
   "execution_count": 8,
   "id": "9ec914e5",
   "metadata": {},
   "outputs": [],
   "source": [
    "marry = (3, 6, 8, 9, 2, 5, 6, 9)"
   ]
  },
  {
   "cell_type": "code",
   "execution_count": 10,
   "id": "aa1fd77d",
   "metadata": {},
   "outputs": [
    {
     "data": {
      "text/plain": [
       "tuple"
      ]
     },
     "execution_count": 10,
     "metadata": {},
     "output_type": "execute_result"
    }
   ],
   "source": [
    "type(marry)"
   ]
  },
  {
   "cell_type": "code",
   "execution_count": 12,
   "id": "48d85c94",
   "metadata": {},
   "outputs": [
    {
     "data": {
      "text/plain": [
       "9"
      ]
     },
     "execution_count": 12,
     "metadata": {},
     "output_type": "execute_result"
    }
   ],
   "source": [
    "marry[3]"
   ]
  },
  {
   "cell_type": "code",
   "execution_count": 14,
   "id": "b6a43a8a",
   "metadata": {},
   "outputs": [
    {
     "data": {
      "text/plain": [
       "8"
      ]
     },
     "execution_count": 14,
     "metadata": {},
     "output_type": "execute_result"
    }
   ],
   "source": [
    "len(marry)"
   ]
  },
  {
   "cell_type": "code",
   "execution_count": 16,
   "id": "23b91098",
   "metadata": {},
   "outputs": [
    {
     "data": {
      "text/plain": [
       "(3, 6, 8, 9, 2, 5, 6, 9)"
      ]
     },
     "execution_count": 16,
     "metadata": {},
     "output_type": "execute_result"
    }
   ],
   "source": [
    "marry"
   ]
  },
  {
   "cell_type": "code",
   "execution_count": 17,
   "id": "85f6c6e4",
   "metadata": {},
   "outputs": [],
   "source": [
    "#sets"
   ]
  },
  {
   "cell_type": "code",
   "execution_count": 19,
   "id": "a41d1965",
   "metadata": {},
   "outputs": [],
   "source": [
    "iyawo = {3, 6, 7, 9, 34, 56, 7, 3, 9, 2, 0, 6}"
   ]
  },
  {
   "cell_type": "code",
   "execution_count": 21,
   "id": "21f2eb8a",
   "metadata": {},
   "outputs": [
    {
     "data": {
      "text/plain": [
       "set"
      ]
     },
     "execution_count": 21,
     "metadata": {},
     "output_type": "execute_result"
    }
   ],
   "source": [
    "type(iyawo)"
   ]
  },
  {
   "cell_type": "code",
   "execution_count": 23,
   "id": "25cb62ea",
   "metadata": {},
   "outputs": [
    {
     "data": {
      "text/plain": [
       "{0, 2, 3, 6, 7, 9, 34, 56}"
      ]
     },
     "execution_count": 23,
     "metadata": {},
     "output_type": "execute_result"
    }
   ],
   "source": [
    "iyawo"
   ]
  },
  {
   "cell_type": "code",
   "execution_count": 26,
   "id": "e1d3a3ad",
   "metadata": {},
   "outputs": [],
   "source": [
    "iyawo.add(35)"
   ]
  },
  {
   "cell_type": "code",
   "execution_count": 28,
   "id": "da16290f",
   "metadata": {},
   "outputs": [
    {
     "data": {
      "text/plain": [
       "{0, 2, 3, 6, 7, 9, 34, 35, 56}"
      ]
     },
     "execution_count": 28,
     "metadata": {},
     "output_type": "execute_result"
    }
   ],
   "source": [
    "iyawo"
   ]
  },
  {
   "cell_type": "code",
   "execution_count": 29,
   "id": "6a46ffc1",
   "metadata": {},
   "outputs": [],
   "source": [
    "#functions"
   ]
  },
  {
   "cell_type": "code",
   "execution_count": 31,
   "id": "af758e19",
   "metadata": {},
   "outputs": [],
   "source": [
    "def name_of_function(arg1, arg2):\n",
    "    pass"
   ]
  },
  {
   "cell_type": "code",
   "execution_count": 35,
   "id": "f6cffa8e",
   "metadata": {},
   "outputs": [
    {
     "data": {
      "text/plain": [
       "<function __main__.name_of_function(arg1, arg2)>"
      ]
     },
     "execution_count": 35,
     "metadata": {},
     "output_type": "execute_result"
    }
   ],
   "source": [
    "name_of_function"
   ]
  },
  {
   "cell_type": "code",
   "execution_count": 36,
   "id": "5a52001e",
   "metadata": {},
   "outputs": [],
   "source": [
    "def greeting():\n",
    "    print(\"Hello Abee, good morning\")"
   ]
  },
  {
   "cell_type": "raw",
   "id": "f20efa01",
   "metadata": {},
   "source": [
    "greeting()"
   ]
  },
  {
   "cell_type": "code",
   "execution_count": 38,
   "id": "91bba927",
   "metadata": {},
   "outputs": [
    {
     "name": "stdout",
     "output_type": "stream",
     "text": [
      "Hello Abee, good morning\n"
     ]
    }
   ],
   "source": [
    "greeting()"
   ]
  },
  {
   "cell_type": "code",
   "execution_count": 41,
   "id": "d9469d2e",
   "metadata": {},
   "outputs": [],
   "source": [
    "def addition():\n",
    "    num = 0\n",
    "    for i in range(3):\n",
    "        txt = int(input(\"Enter a number:\"))\n",
    "        num += txt\n",
    "    print( \"-----------\")\n",
    "    return print(f\" Your total is: {num}\")"
   ]
  },
  {
   "cell_type": "code",
   "execution_count": 42,
   "id": "d835e114",
   "metadata": {},
   "outputs": [
    {
     "name": "stdout",
     "output_type": "stream",
     "text": [
      "Enter a number:9\n",
      "Enter a number:2\n",
      "Enter a number:3\n",
      "-----------\n",
      " Your total is: 14\n"
     ]
    }
   ],
   "source": [
    "addition()"
   ]
  },
  {
   "cell_type": "code",
   "execution_count": 44,
   "id": "a5fdde6c",
   "metadata": {},
   "outputs": [],
   "source": [
    "list1 = [2,3,4,5]\n",
    "def additio():\n",
    "    num = 0\n",
    "    for i in list1:\n",
    "        num += i\n",
    "    print( \"-----------\")\n",
    "    return print(f\" Your total is: {num}\")"
   ]
  },
  {
   "cell_type": "code",
   "execution_count": 46,
   "id": "607b70d8",
   "metadata": {},
   "outputs": [
    {
     "name": "stdout",
     "output_type": "stream",
     "text": [
      "-----------\n",
      " Your total is: 14\n"
     ]
    }
   ],
   "source": [
    "additio()"
   ]
  },
  {
   "cell_type": "code",
   "execution_count": 9,
   "id": "4468e937",
   "metadata": {},
   "outputs": [],
   "source": [
    "from random import shuffle\n",
    "\n",
    "list_1 = list(range(1,5))\n",
    "\n",
    "def game():\n",
    "    print(\"You have 5 trials\")\n",
    "    print(\"----------------------------\")\n",
    "    for i in range(5):\n",
    "        shuffle(list_1)\n",
    "        guess = list_1[3]\n",
    "        num = int(input(\"What is your lucky number: \"))\n",
    "        if guess == num:\n",
    "            print(\"You are the WINNER!!!\")\n",
    "        else:\n",
    "            print(\"JAPA\")\n",
    "            \n",
    "    return print(\"You are done\")"
   ]
  },
  {
   "cell_type": "code",
   "execution_count": 10,
   "id": "8e233c6c",
   "metadata": {},
   "outputs": [
    {
     "name": "stdout",
     "output_type": "stream",
     "text": [
      "You have 5 trials\n",
      "----------------------------\n",
      "What is your lucky number: 4\n",
      "JAPA\n",
      "What is your lucky number: 2\n",
      "JAPA\n",
      "What is your lucky number: 3\n",
      "JAPA\n",
      "What is your lucky number: 1\n",
      "JAPA\n",
      "What is your lucky number: 5\n",
      "JAPA\n",
      "You are done\n"
     ]
    }
   ],
   "source": [
    "game()\n"
   ]
  },
  {
   "cell_type": "code",
   "execution_count": 12,
   "id": "23e7212b",
   "metadata": {},
   "outputs": [],
   "source": [
    "def sqr(x):\n",
    "    num = x ** 2\n",
    "    return num"
   ]
  },
  {
   "cell_type": "code",
   "execution_count": 14,
   "id": "6638dbce",
   "metadata": {},
   "outputs": [
    {
     "data": {
      "text/plain": [
       "25"
      ]
     },
     "execution_count": 14,
     "metadata": {},
     "output_type": "execute_result"
    }
   ],
   "source": [
    "sqr(5)"
   ]
  },
  {
   "cell_type": "code",
   "execution_count": 16,
   "id": "af76cb11",
   "metadata": {},
   "outputs": [],
   "source": [
    "num = range(1, 11)\n"
   ]
  },
  {
   "cell_type": "code",
   "execution_count": 18,
   "id": "cae6c1ac",
   "metadata": {},
   "outputs": [
    {
     "data": {
      "text/plain": [
       "range(1, 11)"
      ]
     },
     "execution_count": 18,
     "metadata": {},
     "output_type": "execute_result"
    }
   ],
   "source": [
    "num"
   ]
  },
  {
   "cell_type": "code",
   "execution_count": 19,
   "id": "46eed93c",
   "metadata": {},
   "outputs": [],
   "source": [
    "num = list(range(1, 11))"
   ]
  },
  {
   "cell_type": "code",
   "execution_count": 21,
   "id": "1421370a",
   "metadata": {},
   "outputs": [
    {
     "data": {
      "text/plain": [
       "[1, 2, 3, 4, 5, 6, 7, 8, 9, 10]"
      ]
     },
     "execution_count": 21,
     "metadata": {},
     "output_type": "execute_result"
    }
   ],
   "source": [
    "num"
   ]
  },
  {
   "cell_type": "code",
   "execution_count": 23,
   "id": "03a88eb5",
   "metadata": {},
   "outputs": [
    {
     "data": {
      "text/plain": [
       "[1, 4, 9, 16, 25, 36, 49, 64, 81, 100]"
      ]
     },
     "execution_count": 23,
     "metadata": {},
     "output_type": "execute_result"
    }
   ],
   "source": [
    "list(map(sqr, num))"
   ]
  },
  {
   "cell_type": "code",
   "execution_count": 6,
   "id": "0668dc3b",
   "metadata": {},
   "outputs": [],
   "source": [
    "name = [\"Jassy\", \"Chisom\", \"Nancy\", \"Eniola\", \"Kehinde\", \"Edoka\", \"Kosi\", \"Makinde\", \"Demola\"]\n",
    "def even_odd(names):\n",
    "    if len(names) % 2 == 0:\n",
    "        category = \"Yes\"\n",
    "    else:\n",
    "        category = \"No\"\n",
    "    return category"
   ]
  },
  {
   "cell_type": "code",
   "execution_count": 9,
   "id": "cfba560c",
   "metadata": {},
   "outputs": [
    {
     "data": {
      "text/plain": [
       "'Yes'"
      ]
     },
     "execution_count": 9,
     "metadata": {},
     "output_type": "execute_result"
    }
   ],
   "source": [
    "even_odd(\"Kosi\")"
   ]
  },
  {
   "cell_type": "code",
   "execution_count": 13,
   "id": "3e4fee8b",
   "metadata": {},
   "outputs": [
    {
     "data": {
      "text/plain": [
       "['No', 'Yes', 'No', 'Yes', 'No', 'No', 'Yes', 'No', 'Yes']"
      ]
     },
     "execution_count": 13,
     "metadata": {},
     "output_type": "execute_result"
    }
   ],
   "source": [
    "list(map(even_odd, name))"
   ]
  },
  {
   "cell_type": "code",
   "execution_count": 15,
   "id": "c21cca8c",
   "metadata": {},
   "outputs": [],
   "source": [
    "name = [\"Ayodeji\", \"Korede\", \"Jassy\", \"Jumoke\", \"Oyindamola\", \"Deborah\", \"DominionMute\", \"Joseph\"]\n",
    "def even_odd(x):\n",
    "    if len(x) % 2 == 0:\n",
    "        return x"
   ]
  },
  {
   "cell_type": "code",
   "execution_count": 17,
   "id": "90636f90",
   "metadata": {},
   "outputs": [
    {
     "data": {
      "text/plain": [
       "['Korede', 'Jumoke', 'Oyindamola', 'DominionMute', 'Joseph']"
      ]
     },
     "execution_count": 17,
     "metadata": {},
     "output_type": "execute_result"
    }
   ],
   "source": [
    "list(filter(even_odd, name))\n"
   ]
  },
  {
   "cell_type": "code",
   "execution_count": 1,
   "id": "bd010770",
   "metadata": {},
   "outputs": [
    {
     "data": {
      "text/plain": [
       "7"
      ]
     },
     "execution_count": 1,
     "metadata": {},
     "output_type": "execute_result"
    }
   ],
   "source": [
    "len(\"Deborah\")"
   ]
  },
  {
   "cell_type": "code",
   "execution_count": 3,
   "id": "3c52d997",
   "metadata": {},
   "outputs": [
    {
     "name": "stdout",
     "output_type": "stream",
     "text": [
      "940\n"
     ]
    }
   ],
   "source": [
    "x = lambda a: a + 890\n",
    "print(x(50))"
   ]
  },
  {
   "cell_type": "code",
   "execution_count": 5,
   "id": "43822f7c",
   "metadata": {},
   "outputs": [
    {
     "data": {
      "text/plain": [
       "66"
      ]
     },
     "execution_count": 5,
     "metadata": {},
     "output_type": "execute_result"
    }
   ],
   "source": [
    "def Abasiofon(a):\n",
    "    abas = a + 10\n",
    "    return abas\n",
    "Abasiofon(56)"
   ]
  },
  {
   "cell_type": "code",
   "execution_count": 6,
   "id": "c039bae5",
   "metadata": {},
   "outputs": [],
   "source": [
    "#pandas"
   ]
  },
  {
   "cell_type": "code",
   "execution_count": 8,
   "id": "e1801b23",
   "metadata": {},
   "outputs": [
    {
     "data": {
      "text/plain": [
       "0     82\n",
       "1    149\n",
       "2    175\n",
       "3    627\n",
       "4     37\n",
       "dtype: int64"
      ]
     },
     "execution_count": 8,
     "metadata": {},
     "output_type": "execute_result"
    }
   ],
   "source": [
    "import pandas as pd\n",
    "import numpy as np\n",
    "age = pd.Series([82, 149, 175, 627,37])\n",
    "age"
   ]
  },
  {
   "cell_type": "code",
   "execution_count": 10,
   "id": "41c8d325",
   "metadata": {},
   "outputs": [
    {
     "data": {
      "text/plain": [
       "array([ 82, 149, 175, 627,  37], dtype=int64)"
      ]
     },
     "execution_count": 10,
     "metadata": {},
     "output_type": "execute_result"
    }
   ],
   "source": [
    "age.values "
   ]
  },
  {
   "cell_type": "code",
   "execution_count": 12,
   "id": "bac6ed61",
   "metadata": {},
   "outputs": [
    {
     "data": {
      "text/plain": [
       "RangeIndex(start=0, stop=5, step=1)"
      ]
     },
     "execution_count": 12,
     "metadata": {},
     "output_type": "execute_result"
    }
   ],
   "source": [
    "age.index"
   ]
  },
  {
   "cell_type": "code",
   "execution_count": 14,
   "id": "75a1d810",
   "metadata": {},
   "outputs": [
    {
     "data": {
      "text/plain": [
       "Chisom      22\n",
       "Jassy       21\n",
       "Nancy       20\n",
       "Deborah     23\n",
       "Paul        25\n",
       "Doyin       26\n",
       "Stephen     18\n",
       "Dominion    23\n",
       "dtype: int64"
      ]
     },
     "execution_count": 14,
     "metadata": {},
     "output_type": "execute_result"
    }
   ],
   "source": [
    "name = [\"Chisom\", \"Jassy\", \"Nancy\", \"Deborah\", \"Paul\", \"Doyin\", \"Stephen\", \"Dominion\"]\n",
    "age = [22, 21, 20, 23, 25, 26, 18, 23,]\n",
    "\n",
    "student = pd.Series(age, name)\n",
    "student"
   ]
  },
  {
   "cell_type": "code",
   "execution_count": 17,
   "id": "c38a94e8",
   "metadata": {},
   "outputs": [
    {
     "data": {
      "text/plain": [
       "25"
      ]
     },
     "execution_count": 17,
     "metadata": {},
     "output_type": "execute_result"
    }
   ],
   "source": [
    "student[\"Paul\"]"
   ]
  },
  {
   "cell_type": "code",
   "execution_count": 19,
   "id": "9b51858a",
   "metadata": {},
   "outputs": [
    {
     "data": {
      "text/plain": [
       "Paul    25\n",
       "dtype: int64"
      ]
     },
     "execution_count": 19,
     "metadata": {},
     "output_type": "execute_result"
    }
   ],
   "source": [
    "student[student == 25]"
   ]
  },
  {
   "cell_type": "code",
   "execution_count": 20,
   "id": "c6471156",
   "metadata": {},
   "outputs": [],
   "source": [
    "name = [\"chison\", \"Nanacy\", \"Kehinde\", \"Doyin\", \"Victor\", \"Stephen\" ]"
   ]
  },
  {
   "cell_type": "code",
   "execution_count": 22,
   "id": "f6b62611",
   "metadata": {},
   "outputs": [
    {
     "data": {
      "text/plain": [
       "array(['chison', 'Nanacy', 'Kehinde', 'Doyin', 'Victor', 'Stephen'],\n",
       "      dtype='<U7')"
      ]
     },
     "execution_count": 22,
     "metadata": {},
     "output_type": "execute_result"
    }
   ],
   "source": [
    "name_1 = np.array(name)\n",
    "name_1"
   ]
  },
  {
   "cell_type": "code",
   "execution_count": 24,
   "id": "5b28ee87",
   "metadata": {},
   "outputs": [
    {
     "data": {
      "text/plain": [
       "0     chison\n",
       "1     Nanacy\n",
       "2    Kehinde\n",
       "3      Doyin\n",
       "4     Victor\n",
       "5    Stephen\n",
       "dtype: object"
      ]
     },
     "execution_count": 24,
     "metadata": {},
     "output_type": "execute_result"
    }
   ],
   "source": [
    "name_2 = pd.Series(name_1)\n",
    "name_2"
   ]
  },
  {
   "cell_type": "code",
   "execution_count": 26,
   "id": "040c07f7",
   "metadata": {},
   "outputs": [
    {
     "data": {
      "text/plain": [
       "{'Banana': 250, 'mango': 300, 'cherry': 500, 'orange': 499, 'Apple': 180}"
      ]
     },
     "execution_count": 26,
     "metadata": {},
     "output_type": "execute_result"
    }
   ],
   "source": [
    "fruits = {\"Banana\": 250, \"mango\":300, \"cherry\":500, \"orange\":499, \"Apple\": 180}\n",
    "fruits"
   ]
  },
  {
   "cell_type": "code",
   "execution_count": 29,
   "id": "be8ce79a",
   "metadata": {},
   "outputs": [],
   "source": [
    "fruit_2 = pd.Series(fruits)"
   ]
  },
  {
   "cell_type": "code",
   "execution_count": 31,
   "id": "59a9d34b",
   "metadata": {},
   "outputs": [
    {
     "data": {
      "text/plain": [
       "Banana    250\n",
       "mango     300\n",
       "cherry    500\n",
       "orange    499\n",
       "Apple     180\n",
       "dtype: int64"
      ]
     },
     "execution_count": 31,
     "metadata": {},
     "output_type": "execute_result"
    }
   ],
   "source": [
    "fruit_2"
   ]
  },
  {
   "cell_type": "code",
   "execution_count": 33,
   "id": "fa3727cc",
   "metadata": {},
   "outputs": [
    {
     "data": {
      "text/plain": [
       "array([250, 300, 500, 499, 180], dtype=int64)"
      ]
     },
     "execution_count": 33,
     "metadata": {},
     "output_type": "execute_result"
    }
   ],
   "source": [
    "fruit_2.values"
   ]
  },
  {
   "cell_type": "code",
   "execution_count": 35,
   "id": "4d5ea98b",
   "metadata": {},
   "outputs": [
    {
     "data": {
      "text/plain": [
       "Index(['Banana', 'mango', 'cherry', 'orange', 'Apple'], dtype='object')"
      ]
     },
     "execution_count": 35,
     "metadata": {},
     "output_type": "execute_result"
    }
   ],
   "source": [
    "fruit_2.index"
   ]
  },
  {
   "cell_type": "code",
   "execution_count": 37,
   "id": "a8e63f20",
   "metadata": {},
   "outputs": [],
   "source": [
    "#dataframe"
   ]
  },
  {
   "cell_type": "code",
   "execution_count": 38,
   "id": "85d3a4f4",
   "metadata": {},
   "outputs": [
    {
     "data": {
      "text/html": [
       "<div>\n",
       "<style scoped>\n",
       "    .dataframe tbody tr th:only-of-type {\n",
       "        vertical-align: middle;\n",
       "    }\n",
       "\n",
       "    .dataframe tbody tr th {\n",
       "        vertical-align: top;\n",
       "    }\n",
       "\n",
       "    .dataframe thead th {\n",
       "        text-align: right;\n",
       "    }\n",
       "</style>\n",
       "<table border=\"1\" class=\"dataframe\">\n",
       "  <thead>\n",
       "    <tr style=\"text-align: right;\">\n",
       "      <th></th>\n",
       "      <th>state</th>\n",
       "      <th>Jan</th>\n",
       "      <th>Feb</th>\n",
       "      <th>Mar</th>\n",
       "    </tr>\n",
       "  </thead>\n",
       "  <tbody>\n",
       "    <tr>\n",
       "      <th>1</th>\n",
       "      <td>Abia</td>\n",
       "      <td>2000</td>\n",
       "      <td>3000</td>\n",
       "      <td>4000</td>\n",
       "    </tr>\n",
       "    <tr>\n",
       "      <th>2</th>\n",
       "      <td>Anambra</td>\n",
       "      <td>5000</td>\n",
       "      <td>6000</td>\n",
       "      <td>7000</td>\n",
       "    </tr>\n",
       "    <tr>\n",
       "      <th>3</th>\n",
       "      <td>Delta</td>\n",
       "      <td>8000</td>\n",
       "      <td>9000</td>\n",
       "      <td>10000</td>\n",
       "    </tr>\n",
       "    <tr>\n",
       "      <th>4</th>\n",
       "      <td>Oyo</td>\n",
       "      <td>1000</td>\n",
       "      <td>9000</td>\n",
       "      <td>10000</td>\n",
       "    </tr>\n",
       "  </tbody>\n",
       "</table>\n",
       "</div>"
      ],
      "text/plain": [
       "     state   Jan   Feb    Mar\n",
       "1     Abia  2000  3000   4000\n",
       "2  Anambra  5000  6000   7000\n",
       "3    Delta  8000  9000  10000\n",
       "4      Oyo  1000  9000  10000"
      ]
     },
     "execution_count": 38,
     "metadata": {},
     "output_type": "execute_result"
    }
   ],
   "source": [
    "vat = [[\"Abia\", 2000, 3000, 4000], [\"Anambra\",5000, 6000,7000], [\"Delta\", 8000, 9000, 10000], [\"Oyo\", 1000, 9000, 10000]]\n",
    "month = [\"state\",\"Jan\", \"Feb\", \"Mar\"]\n",
    "label = [1,2,3,4]\n",
    "Igr = pd.DataFrame(vat, label, month)\n",
    "Igr"
   ]
  },
  {
   "cell_type": "code",
   "execution_count": 40,
   "id": "afec2117",
   "metadata": {},
   "outputs": [
    {
     "data": {
      "text/plain": [
       "<bound method DataFrame.info of      state   Jan   Feb    Mar\n",
       "1     Abia  2000  3000   4000\n",
       "2  Anambra  5000  6000   7000\n",
       "3    Delta  8000  9000  10000\n",
       "4      Oyo  1000  9000  10000>"
      ]
     },
     "execution_count": 40,
     "metadata": {},
     "output_type": "execute_result"
    }
   ],
   "source": [
    "Igr.info"
   ]
  },
  {
   "cell_type": "code",
   "execution_count": 42,
   "id": "44696749",
   "metadata": {},
   "outputs": [
    {
     "data": {
      "text/plain": [
       "<bound method NDFrame.describe of      state   Jan   Feb    Mar\n",
       "1     Abia  2000  3000   4000\n",
       "2  Anambra  5000  6000   7000\n",
       "3    Delta  8000  9000  10000\n",
       "4      Oyo  1000  9000  10000>"
      ]
     },
     "execution_count": 42,
     "metadata": {},
     "output_type": "execute_result"
    }
   ],
   "source": [
    "Igr.describe"
   ]
  },
  {
   "cell_type": "code",
   "execution_count": 44,
   "id": "3787a571",
   "metadata": {},
   "outputs": [
    {
     "data": {
      "text/html": [
       "<div>\n",
       "<style scoped>\n",
       "    .dataframe tbody tr th:only-of-type {\n",
       "        vertical-align: middle;\n",
       "    }\n",
       "\n",
       "    .dataframe tbody tr th {\n",
       "        vertical-align: top;\n",
       "    }\n",
       "\n",
       "    .dataframe thead th {\n",
       "        text-align: right;\n",
       "    }\n",
       "</style>\n",
       "<table border=\"1\" class=\"dataframe\">\n",
       "  <thead>\n",
       "    <tr style=\"text-align: right;\">\n",
       "      <th></th>\n",
       "      <th>Doyin</th>\n",
       "      <th>Jassy</th>\n",
       "      <th>Nancy</th>\n",
       "      <th>Deborah</th>\n",
       "      <th>Chisom</th>\n",
       "    </tr>\n",
       "  </thead>\n",
       "  <tbody>\n",
       "    <tr>\n",
       "      <th>A</th>\n",
       "      <td>-0.876433</td>\n",
       "      <td>0.422058</td>\n",
       "      <td>-0.230458</td>\n",
       "      <td>0.992315</td>\n",
       "      <td>1.317388</td>\n",
       "    </tr>\n",
       "    <tr>\n",
       "      <th>B</th>\n",
       "      <td>-0.114669</td>\n",
       "      <td>-0.056488</td>\n",
       "      <td>0.970421</td>\n",
       "      <td>0.139156</td>\n",
       "      <td>-1.756796</td>\n",
       "    </tr>\n",
       "    <tr>\n",
       "      <th>C</th>\n",
       "      <td>-0.623581</td>\n",
       "      <td>0.500917</td>\n",
       "      <td>1.238215</td>\n",
       "      <td>0.027813</td>\n",
       "      <td>-0.523632</td>\n",
       "    </tr>\n",
       "    <tr>\n",
       "      <th>D</th>\n",
       "      <td>-0.905894</td>\n",
       "      <td>-0.107626</td>\n",
       "      <td>-0.537061</td>\n",
       "      <td>1.829516</td>\n",
       "      <td>-0.316532</td>\n",
       "    </tr>\n",
       "    <tr>\n",
       "      <th>E</th>\n",
       "      <td>2.201389</td>\n",
       "      <td>-0.049551</td>\n",
       "      <td>0.286093</td>\n",
       "      <td>0.644061</td>\n",
       "      <td>2.293917</td>\n",
       "    </tr>\n",
       "  </tbody>\n",
       "</table>\n",
       "</div>"
      ],
      "text/plain": [
       "      Doyin     Jassy     Nancy   Deborah    Chisom\n",
       "A -0.876433  0.422058 -0.230458  0.992315  1.317388\n",
       "B -0.114669 -0.056488  0.970421  0.139156 -1.756796\n",
       "C -0.623581  0.500917  1.238215  0.027813 -0.523632\n",
       "D -0.905894 -0.107626 -0.537061  1.829516 -0.316532\n",
       "E  2.201389 -0.049551  0.286093  0.644061  2.293917"
      ]
     },
     "execution_count": 44,
     "metadata": {},
     "output_type": "execute_result"
    }
   ],
   "source": [
    "from numpy.random import randn\n",
    "df = pd.DataFrame(data=randn(5,5), index=\"A,B,C,D,E\".split(\",\"),columns = \"Doyin,Jassy, Nancy, Deborah,Chisom\".split(\",\"))\n",
    "df"
   ]
  },
  {
   "cell_type": "code",
   "execution_count": 47,
   "id": "662970df",
   "metadata": {},
   "outputs": [
    {
     "data": {
      "text/plain": [
       "['chisom, Nancy ', ' Jassy are very smart']"
      ]
     },
     "execution_count": 47,
     "metadata": {},
     "output_type": "execute_result"
    }
   ],
   "source": [
    "demo = \"chisom, Nancy and Jassy are very smart\"\n",
    "demo.split(\"and\")"
   ]
  },
  {
   "cell_type": "code",
   "execution_count": 48,
   "id": "cf22f6bd",
   "metadata": {},
   "outputs": [
    {
     "data": {
      "text/html": [
       "<div>\n",
       "<style scoped>\n",
       "    .dataframe tbody tr th:only-of-type {\n",
       "        vertical-align: middle;\n",
       "    }\n",
       "\n",
       "    .dataframe tbody tr th {\n",
       "        vertical-align: top;\n",
       "    }\n",
       "\n",
       "    .dataframe thead th {\n",
       "        text-align: right;\n",
       "    }\n",
       "</style>\n",
       "<table border=\"1\" class=\"dataframe\">\n",
       "  <thead>\n",
       "    <tr style=\"text-align: right;\">\n",
       "      <th></th>\n",
       "      <th>state</th>\n",
       "      <th>Jan</th>\n",
       "      <th>Feb</th>\n",
       "      <th>Mar</th>\n",
       "      <th>total</th>\n",
       "    </tr>\n",
       "  </thead>\n",
       "  <tbody>\n",
       "    <tr>\n",
       "      <th>1</th>\n",
       "      <td>Abia</td>\n",
       "      <td>2000</td>\n",
       "      <td>3000</td>\n",
       "      <td>4000</td>\n",
       "      <td>9000</td>\n",
       "    </tr>\n",
       "    <tr>\n",
       "      <th>2</th>\n",
       "      <td>Anambra</td>\n",
       "      <td>5000</td>\n",
       "      <td>6000</td>\n",
       "      <td>7000</td>\n",
       "      <td>18000</td>\n",
       "    </tr>\n",
       "    <tr>\n",
       "      <th>3</th>\n",
       "      <td>Delta</td>\n",
       "      <td>8000</td>\n",
       "      <td>9000</td>\n",
       "      <td>10000</td>\n",
       "      <td>27000</td>\n",
       "    </tr>\n",
       "    <tr>\n",
       "      <th>4</th>\n",
       "      <td>Oyo</td>\n",
       "      <td>1000</td>\n",
       "      <td>9000</td>\n",
       "      <td>10000</td>\n",
       "      <td>20000</td>\n",
       "    </tr>\n",
       "  </tbody>\n",
       "</table>\n",
       "</div>"
      ],
      "text/plain": [
       "     state   Jan   Feb    Mar  total\n",
       "1     Abia  2000  3000   4000   9000\n",
       "2  Anambra  5000  6000   7000  18000\n",
       "3    Delta  8000  9000  10000  27000\n",
       "4      Oyo  1000  9000  10000  20000"
      ]
     },
     "execution_count": 48,
     "metadata": {},
     "output_type": "execute_result"
    }
   ],
   "source": [
    "Igr[\"total\"] = Igr[\"Jan\"]+ Igr[\"Feb\"] + Igr[\"Mar\"]\n",
    "Igr"
   ]
  },
  {
   "cell_type": "code",
   "execution_count": 50,
   "id": "02e51211",
   "metadata": {},
   "outputs": [],
   "source": [
    "#numpy"
   ]
  },
  {
   "cell_type": "code",
   "execution_count": 3,
   "id": "98fdb884",
   "metadata": {},
   "outputs": [],
   "source": [
    "import numpy as np"
   ]
  },
  {
   "cell_type": "code",
   "execution_count": 4,
   "id": "66a48d21",
   "metadata": {},
   "outputs": [
    {
     "data": {
      "text/plain": [
       "[1, 2, 3, 4, 5, 6, 7, 8, 9, 10]"
      ]
     },
     "execution_count": 4,
     "metadata": {},
     "output_type": "execute_result"
    }
   ],
   "source": [
    "abas = list(range(1,11))\n",
    "abas"
   ]
  },
  {
   "cell_type": "code",
   "execution_count": 6,
   "id": "17147027",
   "metadata": {},
   "outputs": [
    {
     "data": {
      "text/plain": [
       "array([ 1,  2,  3,  4,  5,  6,  7,  8,  9, 10])"
      ]
     },
     "execution_count": 6,
     "metadata": {},
     "output_type": "execute_result"
    }
   ],
   "source": [
    "np.array(abas)"
   ]
  },
  {
   "cell_type": "code",
   "execution_count": 7,
   "id": "e5a91edb",
   "metadata": {},
   "outputs": [
    {
     "data": {
      "text/plain": [
       "[[1, 2, 3, 4, 5], [6, 7, 8, 9, 10], [11, 12, 13, 14, 15]]"
      ]
     },
     "execution_count": 7,
     "metadata": {},
     "output_type": "execute_result"
    }
   ],
   "source": [
    "abasiofon = [[1,2,3,4,5], [6,7,8,9,10], [11,12,13,14,15]]\n",
    "abasiofon"
   ]
  },
  {
   "cell_type": "code",
   "execution_count": 8,
   "id": "18757b08",
   "metadata": {},
   "outputs": [
    {
     "data": {
      "text/plain": [
       "array([[ 1,  2,  3,  4,  5],\n",
       "       [ 6,  7,  8,  9, 10],\n",
       "       [11, 12, 13, 14, 15]])"
      ]
     },
     "execution_count": 8,
     "metadata": {},
     "output_type": "execute_result"
    }
   ],
   "source": [
    "np.array(abasiofon)"
   ]
  },
  {
   "cell_type": "code",
   "execution_count": 9,
   "id": "a80ac790",
   "metadata": {},
   "outputs": [
    {
     "name": "stdout",
     "output_type": "stream",
     "text": [
      "[1, 2, 3, 4, 5, 6, 7, 8, 9, 10] [11, 12, 13, 14, 15, 16, 17, 18, 19, 20] [21, 22, 23, 24, 25, 26, 27, 28, 29, 30]\n"
     ]
    }
   ],
   "source": [
    "n1 = list(range(1,11))\n",
    "n2 = list(range(11,21))\n",
    "n3 = list(range(21,31))\n",
    "print(n1, n2, n3)"
   ]
  },
  {
   "cell_type": "code",
   "execution_count": 13,
   "id": "30ea88a3",
   "metadata": {},
   "outputs": [
    {
     "data": {
      "text/plain": [
       "array([[ 1,  2,  3,  4,  5,  6,  7,  8,  9, 10],\n",
       "       [11, 12, 13, 14, 15, 16, 17, 18, 19, 20],\n",
       "       [21, 22, 23, 24, 25, 26, 27, 28, 29, 30]])"
      ]
     },
     "execution_count": 13,
     "metadata": {},
     "output_type": "execute_result"
    }
   ],
   "source": [
    "np.array([n1, n2, n3])"
   ]
  },
  {
   "cell_type": "code",
   "execution_count": 15,
   "id": "767113a5",
   "metadata": {},
   "outputs": [
    {
     "data": {
      "text/plain": [
       "array([ 0,  1,  2,  3,  4,  5,  6,  7,  8,  9, 10])"
      ]
     },
     "execution_count": 15,
     "metadata": {},
     "output_type": "execute_result"
    }
   ],
   "source": [
    "np.arange(0,11)"
   ]
  },
  {
   "cell_type": "code",
   "execution_count": 16,
   "id": "ab4d7054",
   "metadata": {},
   "outputs": [
    {
     "data": {
      "text/plain": [
       "array([0., 0., 0., 0., 0., 0., 0.])"
      ]
     },
     "execution_count": 16,
     "metadata": {},
     "output_type": "execute_result"
    }
   ],
   "source": [
    "np.zeros(7)"
   ]
  },
  {
   "cell_type": "code",
   "execution_count": 18,
   "id": "5697523d",
   "metadata": {},
   "outputs": [
    {
     "data": {
      "text/plain": [
       "array([1., 1., 1., 1., 1., 1., 1., 1., 1.])"
      ]
     },
     "execution_count": 18,
     "metadata": {},
     "output_type": "execute_result"
    }
   ],
   "source": [
    "np.ones(9)"
   ]
  },
  {
   "cell_type": "code",
   "execution_count": 20,
   "id": "13a358de",
   "metadata": {},
   "outputs": [
    {
     "data": {
      "text/plain": [
       "array([[1., 1., 1., 1.],\n",
       "       [1., 1., 1., 1.],\n",
       "       [1., 1., 1., 1.],\n",
       "       [1., 1., 1., 1.]])"
      ]
     },
     "execution_count": 20,
     "metadata": {},
     "output_type": "execute_result"
    }
   ],
   "source": [
    "np.ones((4,4))"
   ]
  },
  {
   "cell_type": "code",
   "execution_count": 21,
   "id": "f6616460",
   "metadata": {},
   "outputs": [
    {
     "data": {
      "text/plain": [
       "array([[0., 0., 0., 0., 0., 0., 0., 0.],\n",
       "       [0., 0., 0., 0., 0., 0., 0., 0.],\n",
       "       [0., 0., 0., 0., 0., 0., 0., 0.],\n",
       "       [0., 0., 0., 0., 0., 0., 0., 0.],\n",
       "       [0., 0., 0., 0., 0., 0., 0., 0.],\n",
       "       [0., 0., 0., 0., 0., 0., 0., 0.],\n",
       "       [0., 0., 0., 0., 0., 0., 0., 0.],\n",
       "       [0., 0., 0., 0., 0., 0., 0., 0.],\n",
       "       [0., 0., 0., 0., 0., 0., 0., 0.]])"
      ]
     },
     "execution_count": 21,
     "metadata": {},
     "output_type": "execute_result"
    }
   ],
   "source": [
    "np.zeros((9,8))"
   ]
  },
  {
   "cell_type": "code",
   "execution_count": 22,
   "id": "d63a2848",
   "metadata": {},
   "outputs": [
    {
     "data": {
      "text/plain": [
       "array([[1., 0., 0., 0., 0., 0., 0., 0.],\n",
       "       [0., 1., 0., 0., 0., 0., 0., 0.],\n",
       "       [0., 0., 1., 0., 0., 0., 0., 0.],\n",
       "       [0., 0., 0., 1., 0., 0., 0., 0.],\n",
       "       [0., 0., 0., 0., 1., 0., 0., 0.]])"
      ]
     },
     "execution_count": 22,
     "metadata": {},
     "output_type": "execute_result"
    }
   ],
   "source": [
    "np.eye(5,8)"
   ]
  },
  {
   "cell_type": "code",
   "execution_count": 24,
   "id": "65e08eaa",
   "metadata": {},
   "outputs": [
    {
     "data": {
      "text/plain": [
       "array([4. , 4.2, 4.4, 4.6, 4.8, 5. ])"
      ]
     },
     "execution_count": 24,
     "metadata": {},
     "output_type": "execute_result"
    }
   ],
   "source": [
    "np.linspace(4, 5, 6)"
   ]
  },
  {
   "cell_type": "code",
   "execution_count": 25,
   "id": "8166a215",
   "metadata": {},
   "outputs": [
    {
     "data": {
      "text/plain": [
       "array([-0.0031007 ,  0.55326953,  1.7832933 ,  1.16634551,  0.40002222])"
      ]
     },
     "execution_count": 25,
     "metadata": {},
     "output_type": "execute_result"
    }
   ],
   "source": [
    "np.random.randn(5)"
   ]
  },
  {
   "cell_type": "code",
   "execution_count": 27,
   "id": "2b089ec8",
   "metadata": {},
   "outputs": [],
   "source": [
    "l1 = [[1,2,3,4,5],[6,7,8,9,10],[11,12,13,14,15]]\n",
    "l1\n",
    "num = np.array(l1)"
   ]
  },
  {
   "cell_type": "code",
   "execution_count": 28,
   "id": "1165fcad",
   "metadata": {},
   "outputs": [
    {
     "data": {
      "text/plain": [
       "array([[ 1,  2,  3,  4,  5],\n",
       "       [ 6,  7,  8,  9, 10],\n",
       "       [11, 12, 13, 14, 15]])"
      ]
     },
     "execution_count": 28,
     "metadata": {},
     "output_type": "execute_result"
    }
   ],
   "source": [
    "num"
   ]
  },
  {
   "cell_type": "code",
   "execution_count": 29,
   "id": "a4139516",
   "metadata": {},
   "outputs": [
    {
     "data": {
      "text/plain": [
       "(3, 5)"
      ]
     },
     "execution_count": 29,
     "metadata": {},
     "output_type": "execute_result"
    }
   ],
   "source": [
    "num.shape"
   ]
  },
  {
   "cell_type": "code",
   "execution_count": 30,
   "id": "a419e17d",
   "metadata": {},
   "outputs": [
    {
     "data": {
      "text/plain": [
       "array([1, 2, 3, 4, 5])"
      ]
     },
     "execution_count": 30,
     "metadata": {},
     "output_type": "execute_result"
    }
   ],
   "source": [
    "num[0]\n"
   ]
  },
  {
   "cell_type": "code",
   "execution_count": 31,
   "id": "634c77c5",
   "metadata": {},
   "outputs": [
    {
     "data": {
      "text/plain": [
       "2"
      ]
     },
     "execution_count": 31,
     "metadata": {},
     "output_type": "execute_result"
    }
   ],
   "source": [
    "num[0][1]"
   ]
  },
  {
   "cell_type": "code",
   "execution_count": 33,
   "id": "de6f35ee",
   "metadata": {},
   "outputs": [
    {
     "data": {
      "text/plain": [
       "array([13, 14, 15])"
      ]
     },
     "execution_count": 33,
     "metadata": {},
     "output_type": "execute_result"
    }
   ],
   "source": [
    "num[2][2:]"
   ]
  },
  {
   "cell_type": "code",
   "execution_count": 34,
   "id": "085c6f2b",
   "metadata": {},
   "outputs": [
    {
     "data": {
      "text/plain": [
       "array([[ 4,  5],\n",
       "       [ 9, 10],\n",
       "       [14, 15]])"
      ]
     },
     "execution_count": 34,
     "metadata": {},
     "output_type": "execute_result"
    }
   ],
   "source": [
    "num[0:, 3:]"
   ]
  },
  {
   "cell_type": "code",
   "execution_count": 35,
   "id": "42091568",
   "metadata": {},
   "outputs": [],
   "source": [
    "import matplotlib.pyplot as plt\n",
    "%matplotlib inline"
   ]
  },
  {
   "cell_type": "code",
   "execution_count": 36,
   "id": "370be928",
   "metadata": {},
   "outputs": [
    {
     "name": "stdout",
     "output_type": "stream",
     "text": [
      "[75, 50, 25, 63, 25, 41, 20]\n",
      "['Eng_Jasy', 'Eng_Chom', 'Eng_Nan', 'Eng_vict', 'Eng_keh', 'Eng_Je', 'Eng_Ade']\n"
     ]
    }
   ],
   "source": [
    "score = [75, 50,25,63,25,41,20]\n",
    "subject = [\"Eng_Jasy\",\"Eng_Chom\", \"Eng_Nan\",\"Eng_vict\", \"Eng_keh\", \"Eng_Je\", \"Eng_Ade\"]\n",
    "print(score)\n",
    "print(subject)"
   ]
  },
  {
   "cell_type": "code",
   "execution_count": 37,
   "id": "d4494c22",
   "metadata": {},
   "outputs": [
    {
     "data": {
      "text/plain": [
       "[<matplotlib.lines.Line2D at 0xd63f0e4d60>]"
      ]
     },
     "execution_count": 37,
     "metadata": {},
     "output_type": "execute_result"
    },
    {
     "data": {
      "image/png": "[encoded data removed]",
      "text/plain": [
       "<Figure size 432x288 with 1 Axes>"
      ]
     },
     "metadata": {
      "needs_background": "light"
     },
     "output_type": "display_data"
    }
   ],
   "source": [
    "plt.plot(subject, score)"
   ]
  },
  {
   "cell_type": "code",
   "execution_count": 39,
   "id": "d44886e3",
   "metadata": {},
   "outputs": [
    {
     "data": {
      "image/png": "[encoded data removed]",
      "text/plain": [
       "<Figure size 432x288 with 1 Axes>"
      ]
     },
     "metadata": {
      "needs_background": "light"
     },
     "output_type": "display_data"
    }
   ],
   "source": [
    "plt.plot(subject, score)\n",
    "plt.title(\"English, 2nd year test result\")\n",
    "plt.show()"
   ]
  },
  {
   "cell_type": "code",
   "execution_count": 40,
   "id": "9810a2e3",
   "metadata": {},
   "outputs": [
    {
     "data": {
      "image/png": "[encoded data removed]",
      "text/plain": [
       "<Figure size 432x288 with 1 Axes>"
      ]
     },
     "metadata": {
      "needs_background": "light"
     },
     "output_type": "display_data"
    }
   ],
   "source": [
    "plt.bar(subject, score)\n",
    "plt.title(\"English, 2nd year test result\")\n",
    "plt.show()"
   ]
  },
  {
   "cell_type": "code",
   "execution_count": 41,
   "id": "ea37350e",
   "metadata": {},
   "outputs": [
    {
     "data": {
      "image/png": "[encoded data removed]",
      "text/plain": [
       "<Figure size 432x288 with 1 Axes>"
      ]
     },
     "metadata": {
      "needs_background": "light"
     },
     "output_type": "display_data"
    }
   ],
   "source": [
    "plt.barh(subject, score)\n",
    "plt.title(\"English, 2nd year test result\")\n",
    "plt.show()"
   ]
  },
  {
   "cell_type": "code",
   "execution_count": null,
   "id": "4a987192",
   "metadata": {},
   "outputs": [],
   "source": [
    "#data analysis"
   ]
  },
  {
   "cell_type": "code",
   "execution_count": 44,
   "id": "f27a8f38",
   "metadata": {},
   "outputs": [
    {
     "name": "stdout",
     "output_type": "stream",
     "text": [
      "Collecting missingno\n",
      "  Downloading missingno-0.5.1-py3-none-any.whl (8.7 kB)\n",
      "Requirement already satisfied: scipy in c:\\users\\owner\\anaconda3\\lib\\site-packages (from missingno) (1.7.1)\n",
      "Requirement already satisfied: numpy in c:\\users\\owner\\anaconda3\\lib\\site-packages (from missingno) (1.20.3)\n",
      "Requirement already satisfied: matplotlib in c:\\users\\owner\\anaconda3\\lib\\site-packages (from missingno) (3.4.3)\n",
      "Requirement already satisfied: seaborn in c:\\users\\owner\\anaconda3\\lib\\site-packages (from missingno) (0.11.2)\n",
      "Requirement already satisfied: pillow>=6.2.0 in c:\\users\\owner\\anaconda3\\lib\\site-packages (from matplotlib->missingno) (8.4.0)\n",
      "Requirement already satisfied: cycler>=0.10 in c:\\users\\owner\\anaconda3\\lib\\site-packages (from matplotlib->missingno) (0.10.0)\n",
      "Requirement already satisfied: pyparsing>=2.2.1 in c:\\users\\owner\\anaconda3\\lib\\site-packages (from matplotlib->missingno) (3.0.4)\n",
      "Requirement already satisfied: kiwisolver>=1.0.1 in c:\\users\\owner\\anaconda3\\lib\\site-packages (from matplotlib->missingno) (1.3.1)\n",
      "Requirement already satisfied: python-dateutil>=2.7 in c:\\users\\owner\\anaconda3\\lib\\site-packages (from matplotlib->missingno) (2.8.2)\n",
      "Requirement already satisfied: six in c:\\users\\owner\\anaconda3\\lib\\site-packages (from cycler>=0.10->matplotlib->missingno) (1.16.0)\n",
      "Requirement already satisfied: pandas>=0.23 in c:\\users\\owner\\anaconda3\\lib\\site-packages (from seaborn->missingno) (1.3.4)\n",
      "Requirement already satisfied: pytz>=2017.3 in c:\\users\\owner\\anaconda3\\lib\\site-packages (from pandas>=0.23->seaborn->missingno) (2021.3)\n",
      "Installing collected packages: missingno\n",
      "Successfully installed missingno-0.5.1\n",
      "Note: you may need to restart the kernel to use updated packages.\n"
     ]
    }
   ],
   "source": [
    "pip install missingno"
   ]
  },
  {
   "cell_type": "code",
   "execution_count": 47,
   "id": "9771b985",
   "metadata": {},
   "outputs": [],
   "source": [
    "import numpy as np\n",
    "import pandas as pd\n",
    "import matplotlib.pyplot as plt\n",
    "import seaborn as sns\n",
    "import missingno as msno"
   ]
  },
  {
   "cell_type": "code",
   "execution_count": 50,
   "id": "11624f5e",
   "metadata": {},
   "outputs": [],
   "source": [
    "df = pd.read_csv(\"/Users/owner/Downloads/netflix_titles.csv\")"
   ]
  },
  {
   "cell_type": "code",
   "execution_count": 51,
   "id": "eab22f3d",
   "metadata": {},
   "outputs": [
    {
     "data": {
      "text/html": [
       "<div>\n",
       "<style scoped>\n",
       "    .dataframe tbody tr th:only-of-type {\n",
       "        vertical-align: middle;\n",
       "    }\n",
       "\n",
       "    .dataframe tbody tr th {\n",
       "        vertical-align: top;\n",
       "    }\n",
       "\n",
       "    .dataframe thead th {\n",
       "        text-align: right;\n",
       "    }\n",
       "</style>\n",
       "<table border=\"1\" class=\"dataframe\">\n",
       "  <thead>\n",
       "    <tr style=\"text-align: right;\">\n",
       "      <th></th>\n",
       "      <th>show_id</th>\n",
       "      <th>type</th>\n",
       "      <th>title</th>\n",
       "      <th>director</th>\n",
       "      <th>cast</th>\n",
       "      <th>country</th>\n",
       "      <th>date_added</th>\n",
       "      <th>release_year</th>\n",
       "      <th>rating</th>\n",
       "      <th>duration</th>\n",
       "      <th>listed_in</th>\n",
       "      <th>description</th>\n",
       "    </tr>\n",
       "  </thead>\n",
       "  <tbody>\n",
       "    <tr>\n",
       "      <th>0</th>\n",
       "      <td>81145628</td>\n",
       "      <td>Movie</td>\n",
       "      <td>Norm of the North: King Sized Adventure</td>\n",
       "      <td>Richard Finn, Tim Maltby</td>\n",
       "      <td>Alan Marriott, Andrew Toth, Brian Dobson, Cole...</td>\n",
       "      <td>United States, India, South Korea, China</td>\n",
       "      <td>September 9, 2019</td>\n",
       "      <td>2019</td>\n",
       "      <td>TV-PG</td>\n",
       "      <td>90 min</td>\n",
       "      <td>Children &amp; Family Movies, Comedies</td>\n",
       "      <td>Before planning an awesome wedding for his gra...</td>\n",
       "    </tr>\n",
       "    <tr>\n",
       "      <th>1</th>\n",
       "      <td>80117401</td>\n",
       "      <td>Movie</td>\n",
       "      <td>Jandino: Whatever it Takes</td>\n",
       "      <td>NaN</td>\n",
       "      <td>Jandino Asporaat</td>\n",
       "      <td>United Kingdom</td>\n",
       "      <td>September 9, 2016</td>\n",
       "      <td>2016</td>\n",
       "      <td>TV-MA</td>\n",
       "      <td>94 min</td>\n",
       "      <td>Stand-Up Comedy</td>\n",
       "      <td>Jandino Asporaat riffs on the challenges of ra...</td>\n",
       "    </tr>\n",
       "    <tr>\n",
       "      <th>2</th>\n",
       "      <td>70234439</td>\n",
       "      <td>TV Show</td>\n",
       "      <td>Transformers Prime</td>\n",
       "      <td>NaN</td>\n",
       "      <td>Peter Cullen, Sumalee Montano, Frank Welker, J...</td>\n",
       "      <td>United States</td>\n",
       "      <td>September 8, 2018</td>\n",
       "      <td>2013</td>\n",
       "      <td>TV-Y7-FV</td>\n",
       "      <td>1 Season</td>\n",
       "      <td>Kids' TV</td>\n",
       "      <td>With the help of three human allies, the Autob...</td>\n",
       "    </tr>\n",
       "    <tr>\n",
       "      <th>3</th>\n",
       "      <td>80058654</td>\n",
       "      <td>TV Show</td>\n",
       "      <td>Transformers: Robots in Disguise</td>\n",
       "      <td>NaN</td>\n",
       "      <td>Will Friedle, Darren Criss, Constance Zimmer, ...</td>\n",
       "      <td>United States</td>\n",
       "      <td>September 8, 2018</td>\n",
       "      <td>2016</td>\n",
       "      <td>TV-Y7</td>\n",
       "      <td>1 Season</td>\n",
       "      <td>Kids' TV</td>\n",
       "      <td>When a prison ship crash unleashes hundreds of...</td>\n",
       "    </tr>\n",
       "    <tr>\n",
       "      <th>4</th>\n",
       "      <td>80125979</td>\n",
       "      <td>Movie</td>\n",
       "      <td>#realityhigh</td>\n",
       "      <td>Fernando Lebrija</td>\n",
       "      <td>Nesta Cooper, Kate Walsh, John Michael Higgins...</td>\n",
       "      <td>United States</td>\n",
       "      <td>September 8, 2017</td>\n",
       "      <td>2017</td>\n",
       "      <td>TV-14</td>\n",
       "      <td>99 min</td>\n",
       "      <td>Comedies</td>\n",
       "      <td>When nerdy high schooler Dani finally attracts...</td>\n",
       "    </tr>\n",
       "  </tbody>\n",
       "</table>\n",
       "</div>"
      ],
      "text/plain": [
       "    show_id     type                                    title  \\\n",
       "0  81145628    Movie  Norm of the North: King Sized Adventure   \n",
       "1  80117401    Movie               Jandino: Whatever it Takes   \n",
       "2  70234439  TV Show                       Transformers Prime   \n",
       "3  80058654  TV Show         Transformers: Robots in Disguise   \n",
       "4  80125979    Movie                             #realityhigh   \n",
       "\n",
       "                   director  \\\n",
       "0  Richard Finn, Tim Maltby   \n",
       "1                       NaN   \n",
       "2                       NaN   \n",
       "3                       NaN   \n",
       "4          Fernando Lebrija   \n",
       "\n",
       "                                                cast  \\\n",
       "0  Alan Marriott, Andrew Toth, Brian Dobson, Cole...   \n",
       "1                                   Jandino Asporaat   \n",
       "2  Peter Cullen, Sumalee Montano, Frank Welker, J...   \n",
       "3  Will Friedle, Darren Criss, Constance Zimmer, ...   \n",
       "4  Nesta Cooper, Kate Walsh, John Michael Higgins...   \n",
       "\n",
       "                                    country         date_added  release_year  \\\n",
       "0  United States, India, South Korea, China  September 9, 2019          2019   \n",
       "1                            United Kingdom  September 9, 2016          2016   \n",
       "2                             United States  September 8, 2018          2013   \n",
       "3                             United States  September 8, 2018          2016   \n",
       "4                             United States  September 8, 2017          2017   \n",
       "\n",
       "     rating  duration                           listed_in  \\\n",
       "0     TV-PG    90 min  Children & Family Movies, Comedies   \n",
       "1     TV-MA    94 min                     Stand-Up Comedy   \n",
       "2  TV-Y7-FV  1 Season                            Kids' TV   \n",
       "3     TV-Y7  1 Season                            Kids' TV   \n",
       "4     TV-14    99 min                            Comedies   \n",
       "\n",
       "                                         description  \n",
       "0  Before planning an awesome wedding for his gra...  \n",
       "1  Jandino Asporaat riffs on the challenges of ra...  \n",
       "2  With the help of three human allies, the Autob...  \n",
       "3  When a prison ship crash unleashes hundreds of...  \n",
       "4  When nerdy high schooler Dani finally attracts...  "
      ]
     },
     "execution_count": 51,
     "metadata": {},
     "output_type": "execute_result"
    }
   ],
   "source": [
    "df.head()"
   ]
  },
  {
   "cell_type": "code",
   "execution_count": 52,
   "id": "e4ce2639",
   "metadata": {},
   "outputs": [
    {
     "data": {
      "text/html": [
       "<div>\n",
       "<style scoped>\n",
       "    .dataframe tbody tr th:only-of-type {\n",
       "        vertical-align: middle;\n",
       "    }\n",
       "\n",
       "    .dataframe tbody tr th {\n",
       "        vertical-align: top;\n",
       "    }\n",
       "\n",
       "    .dataframe thead th {\n",
       "        text-align: right;\n",
       "    }\n",
       "</style>\n",
       "<table border=\"1\" class=\"dataframe\">\n",
       "  <thead>\n",
       "    <tr style=\"text-align: right;\">\n",
       "      <th></th>\n",
       "      <th>show_id</th>\n",
       "      <th>type</th>\n",
       "      <th>title</th>\n",
       "      <th>director</th>\n",
       "      <th>cast</th>\n",
       "      <th>country</th>\n",
       "      <th>date_added</th>\n",
       "      <th>release_year</th>\n",
       "      <th>rating</th>\n",
       "      <th>duration</th>\n",
       "      <th>listed_in</th>\n",
       "      <th>description</th>\n",
       "    </tr>\n",
       "  </thead>\n",
       "  <tbody>\n",
       "    <tr>\n",
       "      <th>6229</th>\n",
       "      <td>80000063</td>\n",
       "      <td>TV Show</td>\n",
       "      <td>Red vs. Blue</td>\n",
       "      <td>NaN</td>\n",
       "      <td>Burnie Burns, Jason Saldaña, Gustavo Sorola, G...</td>\n",
       "      <td>United States</td>\n",
       "      <td>NaN</td>\n",
       "      <td>2015</td>\n",
       "      <td>NR</td>\n",
       "      <td>13 Seasons</td>\n",
       "      <td>TV Action &amp; Adventure, TV Comedies, TV Sci-Fi ...</td>\n",
       "      <td>This parody of first-person shooter games, mil...</td>\n",
       "    </tr>\n",
       "    <tr>\n",
       "      <th>6230</th>\n",
       "      <td>70286564</td>\n",
       "      <td>TV Show</td>\n",
       "      <td>Maron</td>\n",
       "      <td>NaN</td>\n",
       "      <td>Marc Maron, Judd Hirsch, Josh Brener, Nora Zeh...</td>\n",
       "      <td>United States</td>\n",
       "      <td>NaN</td>\n",
       "      <td>2016</td>\n",
       "      <td>TV-MA</td>\n",
       "      <td>4 Seasons</td>\n",
       "      <td>TV Comedies</td>\n",
       "      <td>Marc Maron stars as Marc Maron, who interviews...</td>\n",
       "    </tr>\n",
       "    <tr>\n",
       "      <th>6231</th>\n",
       "      <td>80116008</td>\n",
       "      <td>Movie</td>\n",
       "      <td>Little Baby Bum: Nursery Rhyme Friends</td>\n",
       "      <td>NaN</td>\n",
       "      <td>NaN</td>\n",
       "      <td>NaN</td>\n",
       "      <td>NaN</td>\n",
       "      <td>2016</td>\n",
       "      <td>NaN</td>\n",
       "      <td>60 min</td>\n",
       "      <td>Movies</td>\n",
       "      <td>Nursery rhymes and original music for children...</td>\n",
       "    </tr>\n",
       "    <tr>\n",
       "      <th>6232</th>\n",
       "      <td>70281022</td>\n",
       "      <td>TV Show</td>\n",
       "      <td>A Young Doctor's Notebook and Other Stories</td>\n",
       "      <td>NaN</td>\n",
       "      <td>Daniel Radcliffe, Jon Hamm, Adam Godley, Chris...</td>\n",
       "      <td>United Kingdom</td>\n",
       "      <td>NaN</td>\n",
       "      <td>2013</td>\n",
       "      <td>TV-MA</td>\n",
       "      <td>2 Seasons</td>\n",
       "      <td>British TV Shows, TV Comedies, TV Dramas</td>\n",
       "      <td>Set during the Russian Revolution, this comic ...</td>\n",
       "    </tr>\n",
       "    <tr>\n",
       "      <th>6233</th>\n",
       "      <td>70153404</td>\n",
       "      <td>TV Show</td>\n",
       "      <td>Friends</td>\n",
       "      <td>NaN</td>\n",
       "      <td>Jennifer Aniston, Courteney Cox, Lisa Kudrow, ...</td>\n",
       "      <td>United States</td>\n",
       "      <td>NaN</td>\n",
       "      <td>2003</td>\n",
       "      <td>TV-14</td>\n",
       "      <td>10 Seasons</td>\n",
       "      <td>Classic &amp; Cult TV, TV Comedies</td>\n",
       "      <td>This hit sitcom follows the merry misadventure...</td>\n",
       "    </tr>\n",
       "  </tbody>\n",
       "</table>\n",
       "</div>"
      ],
      "text/plain": [
       "       show_id     type                                        title director  \\\n",
       "6229  80000063  TV Show                                 Red vs. Blue      NaN   \n",
       "6230  70286564  TV Show                                        Maron      NaN   \n",
       "6231  80116008    Movie       Little Baby Bum: Nursery Rhyme Friends      NaN   \n",
       "6232  70281022  TV Show  A Young Doctor's Notebook and Other Stories      NaN   \n",
       "6233  70153404  TV Show                                      Friends      NaN   \n",
       "\n",
       "                                                   cast         country  \\\n",
       "6229  Burnie Burns, Jason Saldaña, Gustavo Sorola, G...   United States   \n",
       "6230  Marc Maron, Judd Hirsch, Josh Brener, Nora Zeh...   United States   \n",
       "6231                                                NaN             NaN   \n",
       "6232  Daniel Radcliffe, Jon Hamm, Adam Godley, Chris...  United Kingdom   \n",
       "6233  Jennifer Aniston, Courteney Cox, Lisa Kudrow, ...   United States   \n",
       "\n",
       "     date_added  release_year rating    duration  \\\n",
       "6229        NaN          2015     NR  13 Seasons   \n",
       "6230        NaN          2016  TV-MA   4 Seasons   \n",
       "6231        NaN          2016    NaN      60 min   \n",
       "6232        NaN          2013  TV-MA   2 Seasons   \n",
       "6233        NaN          2003  TV-14  10 Seasons   \n",
       "\n",
       "                                              listed_in  \\\n",
       "6229  TV Action & Adventure, TV Comedies, TV Sci-Fi ...   \n",
       "6230                                        TV Comedies   \n",
       "6231                                             Movies   \n",
       "6232           British TV Shows, TV Comedies, TV Dramas   \n",
       "6233                     Classic & Cult TV, TV Comedies   \n",
       "\n",
       "                                            description  \n",
       "6229  This parody of first-person shooter games, mil...  \n",
       "6230  Marc Maron stars as Marc Maron, who interviews...  \n",
       "6231  Nursery rhymes and original music for children...  \n",
       "6232  Set during the Russian Revolution, this comic ...  \n",
       "6233  This hit sitcom follows the merry misadventure...  "
      ]
     },
     "execution_count": 52,
     "metadata": {},
     "output_type": "execute_result"
    }
   ],
   "source": [
    "df.tail()"
   ]
  },
  {
   "cell_type": "code",
   "execution_count": 54,
   "id": "f0035150",
   "metadata": {},
   "outputs": [
    {
     "data": {
      "text/plain": [
       "(6234, 12)"
      ]
     },
     "execution_count": 54,
     "metadata": {},
     "output_type": "execute_result"
    }
   ],
   "source": [
    "df.shape"
   ]
  },
  {
   "cell_type": "code",
   "execution_count": 56,
   "id": "20cd2ea9",
   "metadata": {},
   "outputs": [
    {
     "data": {
      "text/html": [
       "<div>\n",
       "<style scoped>\n",
       "    .dataframe tbody tr th:only-of-type {\n",
       "        vertical-align: middle;\n",
       "    }\n",
       "\n",
       "    .dataframe tbody tr th {\n",
       "        vertical-align: top;\n",
       "    }\n",
       "\n",
       "    .dataframe thead th {\n",
       "        text-align: right;\n",
       "    }\n",
       "</style>\n",
       "<table border=\"1\" class=\"dataframe\">\n",
       "  <thead>\n",
       "    <tr style=\"text-align: right;\">\n",
       "      <th></th>\n",
       "      <th>show_id</th>\n",
       "      <th>release_year</th>\n",
       "    </tr>\n",
       "  </thead>\n",
       "  <tbody>\n",
       "    <tr>\n",
       "      <th>count</th>\n",
       "      <td>6.234000e+03</td>\n",
       "      <td>6234.00000</td>\n",
       "    </tr>\n",
       "    <tr>\n",
       "      <th>mean</th>\n",
       "      <td>7.670368e+07</td>\n",
       "      <td>2013.35932</td>\n",
       "    </tr>\n",
       "    <tr>\n",
       "      <th>std</th>\n",
       "      <td>1.094296e+07</td>\n",
       "      <td>8.81162</td>\n",
       "    </tr>\n",
       "    <tr>\n",
       "      <th>min</th>\n",
       "      <td>2.477470e+05</td>\n",
       "      <td>1925.00000</td>\n",
       "    </tr>\n",
       "    <tr>\n",
       "      <th>25%</th>\n",
       "      <td>8.003580e+07</td>\n",
       "      <td>2013.00000</td>\n",
       "    </tr>\n",
       "    <tr>\n",
       "      <th>50%</th>\n",
       "      <td>8.016337e+07</td>\n",
       "      <td>2016.00000</td>\n",
       "    </tr>\n",
       "    <tr>\n",
       "      <th>75%</th>\n",
       "      <td>8.024489e+07</td>\n",
       "      <td>2018.00000</td>\n",
       "    </tr>\n",
       "    <tr>\n",
       "      <th>max</th>\n",
       "      <td>8.123573e+07</td>\n",
       "      <td>2020.00000</td>\n",
       "    </tr>\n",
       "  </tbody>\n",
       "</table>\n",
       "</div>"
      ],
      "text/plain": [
       "            show_id  release_year\n",
       "count  6.234000e+03    6234.00000\n",
       "mean   7.670368e+07    2013.35932\n",
       "std    1.094296e+07       8.81162\n",
       "min    2.477470e+05    1925.00000\n",
       "25%    8.003580e+07    2013.00000\n",
       "50%    8.016337e+07    2016.00000\n",
       "75%    8.024489e+07    2018.00000\n",
       "max    8.123573e+07    2020.00000"
      ]
     },
     "execution_count": 56,
     "metadata": {},
     "output_type": "execute_result"
    }
   ],
   "source": [
    "df.describe()"
   ]
  },
  {
   "cell_type": "code",
   "execution_count": 57,
   "id": "541d7c87",
   "metadata": {},
   "outputs": [
    {
     "name": "stdout",
     "output_type": "stream",
     "text": [
      "<class 'pandas.core.frame.DataFrame'>\n",
      "RangeIndex: 6234 entries, 0 to 6233\n",
      "Data columns (total 12 columns):\n",
      " #   Column        Non-Null Count  Dtype \n",
      "---  ------        --------------  ----- \n",
      " 0   show_id       6234 non-null   int64 \n",
      " 1   type          6234 non-null   object\n",
      " 2   title         6234 non-null   object\n",
      " 3   director      4265 non-null   object\n",
      " 4   cast          5664 non-null   object\n",
      " 5   country       5758 non-null   object\n",
      " 6   date_added    6223 non-null   object\n",
      " 7   release_year  6234 non-null   int64 \n",
      " 8   rating        6224 non-null   object\n",
      " 9   duration      6234 non-null   object\n",
      " 10  listed_in     6234 non-null   object\n",
      " 11  description   6234 non-null   object\n",
      "dtypes: int64(2), object(10)\n",
      "memory usage: 584.6+ KB\n"
     ]
    }
   ],
   "source": [
    "df.info()"
   ]
  },
  {
   "cell_type": "code",
   "execution_count": 58,
   "id": "946525ce",
   "metadata": {},
   "outputs": [
    {
     "data": {
      "text/plain": [
       "Index(['show_id', 'type', 'title', 'director', 'cast', 'country', 'date_added',\n",
       "       'release_year', 'rating', 'duration', 'listed_in', 'description'],\n",
       "      dtype='object')"
      ]
     },
     "execution_count": 58,
     "metadata": {},
     "output_type": "execute_result"
    }
   ],
   "source": [
    "df.columns"
   ]
  },
  {
   "cell_type": "code",
   "execution_count": 59,
   "id": "181a9b8e",
   "metadata": {},
   "outputs": [
    {
     "data": {
      "text/plain": [
       "director      1969\n",
       "cast           570\n",
       "country        476\n",
       "date_added      11\n",
       "rating          10\n",
       "dtype: int64"
      ]
     },
     "execution_count": 59,
     "metadata": {},
     "output_type": "execute_result"
    }
   ],
   "source": [
    "missing_values = df.isnull().sum()\n",
    "missing_values = missing_values[missing_values>0]\n",
    "missing_values"
   ]
  },
  {
   "cell_type": "code",
   "execution_count": 60,
   "id": "cb4f4a7d",
   "metadata": {},
   "outputs": [
    {
     "data": {
      "text/plain": [
       "<AxesSubplot:>"
      ]
     },
     "execution_count": 60,
     "metadata": {},
     "output_type": "execute_result"
    },
    {
     "data": {
      "image/png": "[encoded data removed]",
      "text/plain": [
       "<Figure size 1152x576 with 2 Axes>"
      ]
     },
     "metadata": {
      "needs_background": "light"
     },
     "output_type": "display_data"
    }
   ],
   "source": [
    "plt.figure(figsize = (16,8))\n",
    "sns.heatmap(df.isnull(), cbar=True, cmap=\"Blues_r\")"
   ]
  },
  {
   "cell_type": "code",
   "execution_count": 62,
   "id": "ae8cc6a9",
   "metadata": {},
   "outputs": [
    {
     "data": {
      "text/plain": [
       "<AxesSubplot:>"
      ]
     },
     "execution_count": 62,
     "metadata": {},
     "output_type": "execute_result"
    },
    {
     "data": {
      "image/png": "[encoded data removed]",
      "text/plain": [
       "<Figure size 1800x720 with 3 Axes>"
      ]
     },
     "metadata": {
      "needs_background": "light"
     },
     "output_type": "display_data"
    }
   ],
   "source": [
    "msno.bar(df,color=\"red\")"
   ]
  },
  {
   "cell_type": "code",
   "execution_count": 63,
   "id": "4a0006dc",
   "metadata": {},
   "outputs": [
    {
     "data": {
      "text/plain": [
       "director      1969\n",
       "cast           570\n",
       "country        476\n",
       "date_added      11\n",
       "rating          10\n",
       "dtype: int64"
      ]
     },
     "execution_count": 63,
     "metadata": {},
     "output_type": "execute_result"
    }
   ],
   "source": [
    "missing_values"
   ]
  },
  {
   "cell_type": "code",
   "execution_count": 64,
   "id": "9ed1f059",
   "metadata": {},
   "outputs": [
    {
     "data": {
      "text/html": [
       "<div>\n",
       "<style scoped>\n",
       "    .dataframe tbody tr th:only-of-type {\n",
       "        vertical-align: middle;\n",
       "    }\n",
       "\n",
       "    .dataframe tbody tr th {\n",
       "        vertical-align: top;\n",
       "    }\n",
       "\n",
       "    .dataframe thead th {\n",
       "        text-align: right;\n",
       "    }\n",
       "</style>\n",
       "<table border=\"1\" class=\"dataframe\">\n",
       "  <thead>\n",
       "    <tr style=\"text-align: right;\">\n",
       "      <th></th>\n",
       "      <th>show_id</th>\n",
       "      <th>type</th>\n",
       "      <th>title</th>\n",
       "      <th>director</th>\n",
       "      <th>cast</th>\n",
       "      <th>country</th>\n",
       "      <th>date_added</th>\n",
       "      <th>rating</th>\n",
       "      <th>duration</th>\n",
       "      <th>listed_in</th>\n",
       "      <th>description</th>\n",
       "    </tr>\n",
       "    <tr>\n",
       "      <th>release_year</th>\n",
       "      <th></th>\n",
       "      <th></th>\n",
       "      <th></th>\n",
       "      <th></th>\n",
       "      <th></th>\n",
       "      <th></th>\n",
       "      <th></th>\n",
       "      <th></th>\n",
       "      <th></th>\n",
       "      <th></th>\n",
       "      <th></th>\n",
       "    </tr>\n",
       "  </thead>\n",
       "  <tbody>\n",
       "    <tr>\n",
       "      <th>2018</th>\n",
       "      <td>1063</td>\n",
       "      <td>1063</td>\n",
       "      <td>1063</td>\n",
       "      <td>645</td>\n",
       "      <td>940</td>\n",
       "      <td>954</td>\n",
       "      <td>1062</td>\n",
       "      <td>1063</td>\n",
       "      <td>1063</td>\n",
       "      <td>1063</td>\n",
       "      <td>1063</td>\n",
       "    </tr>\n",
       "    <tr>\n",
       "      <th>2017</th>\n",
       "      <td>959</td>\n",
       "      <td>959</td>\n",
       "      <td>959</td>\n",
       "      <td>685</td>\n",
       "      <td>842</td>\n",
       "      <td>900</td>\n",
       "      <td>959</td>\n",
       "      <td>957</td>\n",
       "      <td>959</td>\n",
       "      <td>959</td>\n",
       "      <td>959</td>\n",
       "    </tr>\n",
       "    <tr>\n",
       "      <th>2019</th>\n",
       "      <td>843</td>\n",
       "      <td>843</td>\n",
       "      <td>843</td>\n",
       "      <td>403</td>\n",
       "      <td>745</td>\n",
       "      <td>727</td>\n",
       "      <td>843</td>\n",
       "      <td>843</td>\n",
       "      <td>843</td>\n",
       "      <td>843</td>\n",
       "      <td>843</td>\n",
       "    </tr>\n",
       "    <tr>\n",
       "      <th>2016</th>\n",
       "      <td>830</td>\n",
       "      <td>830</td>\n",
       "      <td>830</td>\n",
       "      <td>587</td>\n",
       "      <td>733</td>\n",
       "      <td>766</td>\n",
       "      <td>828</td>\n",
       "      <td>829</td>\n",
       "      <td>830</td>\n",
       "      <td>830</td>\n",
       "      <td>830</td>\n",
       "    </tr>\n",
       "    <tr>\n",
       "      <th>2015</th>\n",
       "      <td>517</td>\n",
       "      <td>517</td>\n",
       "      <td>517</td>\n",
       "      <td>364</td>\n",
       "      <td>473</td>\n",
       "      <td>479</td>\n",
       "      <td>515</td>\n",
       "      <td>512</td>\n",
       "      <td>517</td>\n",
       "      <td>517</td>\n",
       "      <td>517</td>\n",
       "    </tr>\n",
       "  </tbody>\n",
       "</table>\n",
       "</div>"
      ],
      "text/plain": [
       "              show_id  type  title  director  cast  country  date_added  \\\n",
       "release_year                                                              \n",
       "2018             1063  1063   1063       645   940      954        1062   \n",
       "2017              959   959    959       685   842      900         959   \n",
       "2019              843   843    843       403   745      727         843   \n",
       "2016              830   830    830       587   733      766         828   \n",
       "2015              517   517    517       364   473      479         515   \n",
       "\n",
       "              rating  duration  listed_in  description  \n",
       "release_year                                            \n",
       "2018            1063      1063       1063         1063  \n",
       "2017             957       959        959          959  \n",
       "2019             843       843        843          843  \n",
       "2016             829       830        830          830  \n",
       "2015             512       517        517          517  "
      ]
     },
     "execution_count": 64,
     "metadata": {},
     "output_type": "execute_result"
    }
   ],
   "source": [
    "data = df.groupby(\"release_year\").count().sort_values(ascending = False, by = \"show_id\")[0:5]\n",
    "data"
   ]
  },
  {
   "cell_type": "code",
   "execution_count": 65,
   "id": "e38254b3",
   "metadata": {},
   "outputs": [
    {
     "data": {
      "text/plain": [
       "Text(0.5, 1.0, 'total number of shows according to the type')"
      ]
     },
     "execution_count": 65,
     "metadata": {},
     "output_type": "execute_result"
    },
    {
     "data": {
      "image/png": "[encoded data removed]",
      "text/plain": [
       "<Figure size 360x288 with 1 Axes>"
      ]
     },
     "metadata": {
      "needs_background": "light"
     },
     "output_type": "display_data"
    }
   ],
   "source": [
    "plt.figure(figsize = (5,4))\n",
    "sns.countplot(x=\"type\", data=df)\n",
    "plt.xlabel(\"Type of content\")\n",
    "plt.ylabel(\"Count of Movies\")\n",
    "plt.title(\"total number of shows according to the type\")"
   ]
  },
  {
   "cell_type": "code",
   "execution_count": 66,
   "id": "5569d962",
   "metadata": {},
   "outputs": [
    {
     "data": {
      "text/html": [
       "<div>\n",
       "<style scoped>\n",
       "    .dataframe tbody tr th:only-of-type {\n",
       "        vertical-align: middle;\n",
       "    }\n",
       "\n",
       "    .dataframe tbody tr th {\n",
       "        vertical-align: top;\n",
       "    }\n",
       "\n",
       "    .dataframe thead th {\n",
       "        text-align: right;\n",
       "    }\n",
       "</style>\n",
       "<table border=\"1\" class=\"dataframe\">\n",
       "  <thead>\n",
       "    <tr style=\"text-align: right;\">\n",
       "      <th></th>\n",
       "      <th>release_year</th>\n",
       "      <th>show_id</th>\n",
       "      <th>type</th>\n",
       "      <th>title</th>\n",
       "      <th>director</th>\n",
       "      <th>cast</th>\n",
       "      <th>country</th>\n",
       "      <th>date_added</th>\n",
       "      <th>rating</th>\n",
       "      <th>duration</th>\n",
       "      <th>listed_in</th>\n",
       "      <th>description</th>\n",
       "    </tr>\n",
       "  </thead>\n",
       "  <tbody>\n",
       "    <tr>\n",
       "      <th>69</th>\n",
       "      <td>2018</td>\n",
       "      <td>1063</td>\n",
       "      <td>1063</td>\n",
       "      <td>1063</td>\n",
       "      <td>645</td>\n",
       "      <td>940</td>\n",
       "      <td>954</td>\n",
       "      <td>1062</td>\n",
       "      <td>1063</td>\n",
       "      <td>1063</td>\n",
       "      <td>1063</td>\n",
       "      <td>1063</td>\n",
       "    </tr>\n",
       "    <tr>\n",
       "      <th>68</th>\n",
       "      <td>2017</td>\n",
       "      <td>959</td>\n",
       "      <td>959</td>\n",
       "      <td>959</td>\n",
       "      <td>685</td>\n",
       "      <td>842</td>\n",
       "      <td>900</td>\n",
       "      <td>959</td>\n",
       "      <td>957</td>\n",
       "      <td>959</td>\n",
       "      <td>959</td>\n",
       "      <td>959</td>\n",
       "    </tr>\n",
       "    <tr>\n",
       "      <th>70</th>\n",
       "      <td>2019</td>\n",
       "      <td>843</td>\n",
       "      <td>843</td>\n",
       "      <td>843</td>\n",
       "      <td>403</td>\n",
       "      <td>745</td>\n",
       "      <td>727</td>\n",
       "      <td>843</td>\n",
       "      <td>843</td>\n",
       "      <td>843</td>\n",
       "      <td>843</td>\n",
       "      <td>843</td>\n",
       "    </tr>\n",
       "    <tr>\n",
       "      <th>67</th>\n",
       "      <td>2016</td>\n",
       "      <td>830</td>\n",
       "      <td>830</td>\n",
       "      <td>830</td>\n",
       "      <td>587</td>\n",
       "      <td>733</td>\n",
       "      <td>766</td>\n",
       "      <td>828</td>\n",
       "      <td>829</td>\n",
       "      <td>830</td>\n",
       "      <td>830</td>\n",
       "      <td>830</td>\n",
       "    </tr>\n",
       "    <tr>\n",
       "      <th>66</th>\n",
       "      <td>2015</td>\n",
       "      <td>517</td>\n",
       "      <td>517</td>\n",
       "      <td>517</td>\n",
       "      <td>364</td>\n",
       "      <td>473</td>\n",
       "      <td>479</td>\n",
       "      <td>515</td>\n",
       "      <td>512</td>\n",
       "      <td>517</td>\n",
       "      <td>517</td>\n",
       "      <td>517</td>\n",
       "    </tr>\n",
       "    <tr>\n",
       "      <th>65</th>\n",
       "      <td>2014</td>\n",
       "      <td>288</td>\n",
       "      <td>288</td>\n",
       "      <td>288</td>\n",
       "      <td>216</td>\n",
       "      <td>266</td>\n",
       "      <td>272</td>\n",
       "      <td>288</td>\n",
       "      <td>288</td>\n",
       "      <td>288</td>\n",
       "      <td>288</td>\n",
       "      <td>288</td>\n",
       "    </tr>\n",
       "    <tr>\n",
       "      <th>64</th>\n",
       "      <td>2013</td>\n",
       "      <td>237</td>\n",
       "      <td>237</td>\n",
       "      <td>237</td>\n",
       "      <td>178</td>\n",
       "      <td>218</td>\n",
       "      <td>225</td>\n",
       "      <td>236</td>\n",
       "      <td>236</td>\n",
       "      <td>237</td>\n",
       "      <td>237</td>\n",
       "      <td>237</td>\n",
       "    </tr>\n",
       "  </tbody>\n",
       "</table>\n",
       "</div>"
      ],
      "text/plain": [
       "    release_year  show_id  type  title  director  cast  country  date_added  \\\n",
       "69          2018     1063  1063   1063       645   940      954        1062   \n",
       "68          2017      959   959    959       685   842      900         959   \n",
       "70          2019      843   843    843       403   745      727         843   \n",
       "67          2016      830   830    830       587   733      766         828   \n",
       "66          2015      517   517    517       364   473      479         515   \n",
       "65          2014      288   288    288       216   266      272         288   \n",
       "64          2013      237   237    237       178   218      225         236   \n",
       "\n",
       "    rating  duration  listed_in  description  \n",
       "69    1063      1063       1063         1063  \n",
       "68     957       959        959          959  \n",
       "70     843       843        843          843  \n",
       "67     829       830        830          830  \n",
       "66     512       517        517          517  \n",
       "65     288       288        288          288  \n",
       "64     236       237        237          237  "
      ]
     },
     "execution_count": 66,
     "metadata": {},
     "output_type": "execute_result"
    }
   ],
   "source": [
    "release = df.groupby(\"release_year\").count().reset_index().sort_values(ascending=False, by=\"show_id\")[0:7]\n",
    "release"
   ]
  },
  {
   "cell_type": "code",
   "execution_count": 68,
   "id": "cbc01073",
   "metadata": {},
   "outputs": [
    {
     "data": {
      "text/plain": [
       "Text(0.5, 1.0, 'total number of shows by release Year')"
      ]
     },
     "execution_count": 68,
     "metadata": {},
     "output_type": "execute_result"
    },
    {
     "data": {
      "image/png": "[encoded data removed]",
      "text/plain": [
       "<Figure size 648x360 with 1 Axes>"
      ]
     },
     "metadata": {
      "needs_background": "light"
     },
     "output_type": "display_data"
    }
   ],
   "source": [
    "plt.figure(figsize = (9,5))\n",
    "sns.barplot(x=\"release_year\", data=release, y=\"show_id\")\n",
    "plt.xlabel(\"Release Year\")\n",
    "plt.ylabel(\"Count of Movies\")\n",
    "plt.title(\"total number of shows by release Year\")"
   ]
  },
  {
   "cell_type": "code",
   "execution_count": 69,
   "id": "f79f7f62",
   "metadata": {},
   "outputs": [
    {
     "data": {
      "text/html": [
       "<div>\n",
       "<style scoped>\n",
       "    .dataframe tbody tr th:only-of-type {\n",
       "        vertical-align: middle;\n",
       "    }\n",
       "\n",
       "    .dataframe tbody tr th {\n",
       "        vertical-align: top;\n",
       "    }\n",
       "\n",
       "    .dataframe thead th {\n",
       "        text-align: right;\n",
       "    }\n",
       "</style>\n",
       "<table border=\"1\" class=\"dataframe\">\n",
       "  <thead>\n",
       "    <tr style=\"text-align: right;\">\n",
       "      <th></th>\n",
       "      <th>date_added</th>\n",
       "      <th>show_id</th>\n",
       "      <th>type</th>\n",
       "      <th>title</th>\n",
       "      <th>director</th>\n",
       "      <th>cast</th>\n",
       "      <th>country</th>\n",
       "      <th>release_year</th>\n",
       "      <th>rating</th>\n",
       "      <th>duration</th>\n",
       "      <th>listed_in</th>\n",
       "      <th>description</th>\n",
       "    </tr>\n",
       "  </thead>\n",
       "  <tbody>\n",
       "    <tr>\n",
       "      <th>784</th>\n",
       "      <td>January 1, 2020</td>\n",
       "      <td>122</td>\n",
       "      <td>122</td>\n",
       "      <td>122</td>\n",
       "      <td>112</td>\n",
       "      <td>121</td>\n",
       "      <td>108</td>\n",
       "      <td>122</td>\n",
       "      <td>122</td>\n",
       "      <td>122</td>\n",
       "      <td>122</td>\n",
       "      <td>122</td>\n",
       "    </tr>\n",
       "    <tr>\n",
       "      <th>1230</th>\n",
       "      <td>November 1, 2019</td>\n",
       "      <td>94</td>\n",
       "      <td>94</td>\n",
       "      <td>94</td>\n",
       "      <td>82</td>\n",
       "      <td>91</td>\n",
       "      <td>82</td>\n",
       "      <td>94</td>\n",
       "      <td>94</td>\n",
       "      <td>94</td>\n",
       "      <td>94</td>\n",
       "      <td>94</td>\n",
       "    </tr>\n",
       "    <tr>\n",
       "      <th>1053</th>\n",
       "      <td>March 1, 2018</td>\n",
       "      <td>78</td>\n",
       "      <td>78</td>\n",
       "      <td>78</td>\n",
       "      <td>73</td>\n",
       "      <td>75</td>\n",
       "      <td>77</td>\n",
       "      <td>78</td>\n",
       "      <td>78</td>\n",
       "      <td>78</td>\n",
       "      <td>78</td>\n",
       "      <td>78</td>\n",
       "    </tr>\n",
       "    <tr>\n",
       "      <th>667</th>\n",
       "      <td>December 31, 2019</td>\n",
       "      <td>74</td>\n",
       "      <td>74</td>\n",
       "      <td>74</td>\n",
       "      <td>69</td>\n",
       "      <td>74</td>\n",
       "      <td>66</td>\n",
       "      <td>74</td>\n",
       "      <td>74</td>\n",
       "      <td>74</td>\n",
       "      <td>74</td>\n",
       "      <td>74</td>\n",
       "    </tr>\n",
       "    <tr>\n",
       "      <th>1322</th>\n",
       "      <td>October 1, 2018</td>\n",
       "      <td>72</td>\n",
       "      <td>72</td>\n",
       "      <td>72</td>\n",
       "      <td>66</td>\n",
       "      <td>67</td>\n",
       "      <td>67</td>\n",
       "      <td>72</td>\n",
       "      <td>72</td>\n",
       "      <td>72</td>\n",
       "      <td>72</td>\n",
       "      <td>72</td>\n",
       "    </tr>\n",
       "    <tr>\n",
       "      <th>1323</th>\n",
       "      <td>October 1, 2019</td>\n",
       "      <td>71</td>\n",
       "      <td>71</td>\n",
       "      <td>71</td>\n",
       "      <td>60</td>\n",
       "      <td>68</td>\n",
       "      <td>70</td>\n",
       "      <td>71</td>\n",
       "      <td>71</td>\n",
       "      <td>71</td>\n",
       "      <td>71</td>\n",
       "      <td>71</td>\n",
       "    </tr>\n",
       "    <tr>\n",
       "      <th>881</th>\n",
       "      <td>July 1, 2019</td>\n",
       "      <td>60</td>\n",
       "      <td>60</td>\n",
       "      <td>60</td>\n",
       "      <td>50</td>\n",
       "      <td>53</td>\n",
       "      <td>58</td>\n",
       "      <td>60</td>\n",
       "      <td>60</td>\n",
       "      <td>60</td>\n",
       "      <td>60</td>\n",
       "      <td>60</td>\n",
       "    </tr>\n",
       "    <tr>\n",
       "      <th>1229</th>\n",
       "      <td>November 1, 2018</td>\n",
       "      <td>59</td>\n",
       "      <td>59</td>\n",
       "      <td>59</td>\n",
       "      <td>54</td>\n",
       "      <td>57</td>\n",
       "      <td>55</td>\n",
       "      <td>59</td>\n",
       "      <td>59</td>\n",
       "      <td>59</td>\n",
       "      <td>59</td>\n",
       "      <td>59</td>\n",
       "    </tr>\n",
       "    <tr>\n",
       "      <th>782</th>\n",
       "      <td>January 1, 2018</td>\n",
       "      <td>54</td>\n",
       "      <td>54</td>\n",
       "      <td>54</td>\n",
       "      <td>50</td>\n",
       "      <td>48</td>\n",
       "      <td>54</td>\n",
       "      <td>54</td>\n",
       "      <td>54</td>\n",
       "      <td>54</td>\n",
       "      <td>54</td>\n",
       "      <td>54</td>\n",
       "    </tr>\n",
       "  </tbody>\n",
       "</table>\n",
       "</div>"
      ],
      "text/plain": [
       "             date_added  show_id  type  title  director  cast  country  \\\n",
       "784     January 1, 2020      122   122    122       112   121      108   \n",
       "1230   November 1, 2019       94    94     94        82    91       82   \n",
       "1053      March 1, 2018       78    78     78        73    75       77   \n",
       "667   December 31, 2019       74    74     74        69    74       66   \n",
       "1322    October 1, 2018       72    72     72        66    67       67   \n",
       "1323    October 1, 2019       71    71     71        60    68       70   \n",
       "881        July 1, 2019       60    60     60        50    53       58   \n",
       "1229   November 1, 2018       59    59     59        54    57       55   \n",
       "782     January 1, 2018       54    54     54        50    48       54   \n",
       "\n",
       "      release_year  rating  duration  listed_in  description  \n",
       "784            122     122       122        122          122  \n",
       "1230            94      94        94         94           94  \n",
       "1053            78      78        78         78           78  \n",
       "667             74      74        74         74           74  \n",
       "1322            72      72        72         72           72  \n",
       "1323            71      71        71         71           71  \n",
       "881             60      60        60         60           60  \n",
       "1229            59      59        59         59           59  \n",
       "782             54      54        54         54           54  "
      ]
     },
     "execution_count": 69,
     "metadata": {},
     "output_type": "execute_result"
    }
   ],
   "source": [
    "date = df.groupby(\"date_added\").count().reset_index().sort_values(ascending=False, by=\"show_id\")[0:9]\n",
    "date"
   ]
  },
  {
   "cell_type": "code",
   "execution_count": 70,
   "id": "ad2c56e5",
   "metadata": {},
   "outputs": [
    {
     "data": {
      "text/plain": [
       "Text(0.5, 1.0, 'total number of shows by date added')"
      ]
     },
     "execution_count": 70,
     "metadata": {},
     "output_type": "execute_result"
    },
    {
     "data": {
      "image/png": "[encoded data removed]",
      "text/plain": [
       "<Figure size 1080x648 with 1 Axes>"
      ]
     },
     "metadata": {
      "needs_background": "light"
     },
     "output_type": "display_data"
    }
   ],
   "source": [
    "plt.figure(figsize = (15,9))\n",
    "sns.barplot(x=\"date_added\", data=date, y=\"show_id\")\n",
    "sns.despine(left=True)\n",
    "plt.xlabel(\"Date Added\")\n",
    "plt.ylabel(\"Count of Movies\")\n",
    "plt.title(\"total number of shows by date added\")"
   ]
  },
  {
   "cell_type": "code",
   "execution_count": 71,
   "id": "653fe4e1",
   "metadata": {},
   "outputs": [
    {
     "data": {
      "text/html": [
       "<div>\n",
       "<style scoped>\n",
       "    .dataframe tbody tr th:only-of-type {\n",
       "        vertical-align: middle;\n",
       "    }\n",
       "\n",
       "    .dataframe tbody tr th {\n",
       "        vertical-align: top;\n",
       "    }\n",
       "\n",
       "    .dataframe thead th {\n",
       "        text-align: right;\n",
       "    }\n",
       "</style>\n",
       "<table border=\"1\" class=\"dataframe\">\n",
       "  <thead>\n",
       "    <tr style=\"text-align: right;\">\n",
       "      <th></th>\n",
       "      <th>rating</th>\n",
       "      <th>show_id</th>\n",
       "      <th>type</th>\n",
       "      <th>title</th>\n",
       "      <th>director</th>\n",
       "      <th>cast</th>\n",
       "      <th>country</th>\n",
       "      <th>date_added</th>\n",
       "      <th>release_year</th>\n",
       "      <th>duration</th>\n",
       "      <th>listed_in</th>\n",
       "      <th>description</th>\n",
       "    </tr>\n",
       "  </thead>\n",
       "  <tbody>\n",
       "    <tr>\n",
       "      <th>8</th>\n",
       "      <td>TV-MA</td>\n",
       "      <td>2027</td>\n",
       "      <td>2027</td>\n",
       "      <td>2027</td>\n",
       "      <td>1352</td>\n",
       "      <td>1836</td>\n",
       "      <td>1892</td>\n",
       "      <td>2025</td>\n",
       "      <td>2027</td>\n",
       "      <td>2027</td>\n",
       "      <td>2027</td>\n",
       "      <td>2027</td>\n",
       "    </tr>\n",
       "    <tr>\n",
       "      <th>6</th>\n",
       "      <td>TV-14</td>\n",
       "      <td>1698</td>\n",
       "      <td>1698</td>\n",
       "      <td>1698</td>\n",
       "      <td>1061</td>\n",
       "      <td>1539</td>\n",
       "      <td>1544</td>\n",
       "      <td>1695</td>\n",
       "      <td>1698</td>\n",
       "      <td>1698</td>\n",
       "      <td>1698</td>\n",
       "      <td>1698</td>\n",
       "    </tr>\n",
       "    <tr>\n",
       "      <th>9</th>\n",
       "      <td>TV-PG</td>\n",
       "      <td>701</td>\n",
       "      <td>701</td>\n",
       "      <td>701</td>\n",
       "      <td>435</td>\n",
       "      <td>599</td>\n",
       "      <td>637</td>\n",
       "      <td>699</td>\n",
       "      <td>701</td>\n",
       "      <td>701</td>\n",
       "      <td>701</td>\n",
       "      <td>701</td>\n",
       "    </tr>\n",
       "    <tr>\n",
       "      <th>5</th>\n",
       "      <td>R</td>\n",
       "      <td>508</td>\n",
       "      <td>508</td>\n",
       "      <td>508</td>\n",
       "      <td>505</td>\n",
       "      <td>503</td>\n",
       "      <td>507</td>\n",
       "      <td>508</td>\n",
       "      <td>508</td>\n",
       "      <td>508</td>\n",
       "      <td>508</td>\n",
       "      <td>508</td>\n",
       "    </tr>\n",
       "    <tr>\n",
       "      <th>4</th>\n",
       "      <td>PG-13</td>\n",
       "      <td>286</td>\n",
       "      <td>286</td>\n",
       "      <td>286</td>\n",
       "      <td>286</td>\n",
       "      <td>282</td>\n",
       "      <td>282</td>\n",
       "      <td>286</td>\n",
       "      <td>286</td>\n",
       "      <td>286</td>\n",
       "      <td>286</td>\n",
       "      <td>286</td>\n",
       "    </tr>\n",
       "    <tr>\n",
       "      <th>2</th>\n",
       "      <td>NR</td>\n",
       "      <td>218</td>\n",
       "      <td>218</td>\n",
       "      <td>218</td>\n",
       "      <td>201</td>\n",
       "      <td>190</td>\n",
       "      <td>217</td>\n",
       "      <td>217</td>\n",
       "      <td>218</td>\n",
       "      <td>218</td>\n",
       "      <td>218</td>\n",
       "      <td>218</td>\n",
       "    </tr>\n",
       "    <tr>\n",
       "      <th>3</th>\n",
       "      <td>PG</td>\n",
       "      <td>184</td>\n",
       "      <td>184</td>\n",
       "      <td>184</td>\n",
       "      <td>183</td>\n",
       "      <td>178</td>\n",
       "      <td>182</td>\n",
       "      <td>184</td>\n",
       "      <td>184</td>\n",
       "      <td>184</td>\n",
       "      <td>184</td>\n",
       "      <td>184</td>\n",
       "    </tr>\n",
       "    <tr>\n",
       "      <th>11</th>\n",
       "      <td>TV-Y7</td>\n",
       "      <td>169</td>\n",
       "      <td>169</td>\n",
       "      <td>169</td>\n",
       "      <td>68</td>\n",
       "      <td>157</td>\n",
       "      <td>126</td>\n",
       "      <td>168</td>\n",
       "      <td>169</td>\n",
       "      <td>169</td>\n",
       "      <td>169</td>\n",
       "      <td>169</td>\n",
       "    </tr>\n",
       "    <tr>\n",
       "      <th>7</th>\n",
       "      <td>TV-G</td>\n",
       "      <td>149</td>\n",
       "      <td>149</td>\n",
       "      <td>149</td>\n",
       "      <td>75</td>\n",
       "      <td>113</td>\n",
       "      <td>134</td>\n",
       "      <td>149</td>\n",
       "      <td>149</td>\n",
       "      <td>149</td>\n",
       "      <td>149</td>\n",
       "      <td>149</td>\n",
       "    </tr>\n",
       "  </tbody>\n",
       "</table>\n",
       "</div>"
      ],
      "text/plain": [
       "   rating  show_id  type  title  director  cast  country  date_added  \\\n",
       "8   TV-MA     2027  2027   2027      1352  1836     1892        2025   \n",
       "6   TV-14     1698  1698   1698      1061  1539     1544        1695   \n",
       "9   TV-PG      701   701    701       435   599      637         699   \n",
       "5       R      508   508    508       505   503      507         508   \n",
       "4   PG-13      286   286    286       286   282      282         286   \n",
       "2      NR      218   218    218       201   190      217         217   \n",
       "3      PG      184   184    184       183   178      182         184   \n",
       "11  TV-Y7      169   169    169        68   157      126         168   \n",
       "7    TV-G      149   149    149        75   113      134         149   \n",
       "\n",
       "    release_year  duration  listed_in  description  \n",
       "8           2027      2027       2027         2027  \n",
       "6           1698      1698       1698         1698  \n",
       "9            701       701        701          701  \n",
       "5            508       508        508          508  \n",
       "4            286       286        286          286  \n",
       "2            218       218        218          218  \n",
       "3            184       184        184          184  \n",
       "11           169       169        169          169  \n",
       "7            149       149        149          149  "
      ]
     },
     "execution_count": 71,
     "metadata": {},
     "output_type": "execute_result"
    }
   ],
   "source": [
    "rating = df.groupby(\"rating\").count().reset_index().sort_values(ascending=False, by=\"show_id\")[0:9]\n",
    "rating\n"
   ]
  },
  {
   "cell_type": "code",
   "execution_count": 72,
   "id": "ac1a37e7",
   "metadata": {},
   "outputs": [
    {
     "data": {
      "text/plain": [
       "Text(0.5, 1.0, 'Total number of shows by rating')"
      ]
     },
     "execution_count": 72,
     "metadata": {},
     "output_type": "execute_result"
    },
    {
     "data": {
      "image/png": "[encoded data removed]",
      "text/plain": [
       "<Figure size 1080x648 with 1 Axes>"
      ]
     },
     "metadata": {
      "needs_background": "light"
     },
     "output_type": "display_data"
    }
   ],
   "source": [
    "plt.figure(figsize = (15, 9))\n",
    "sns.swarmplot(x=\"rating\", data= rating, y=\"show_id\", palette = \"magma\")\n",
    "sns.despine(left=True)\n",
    "plt.xlabel(\"Rating\")\n",
    "plt.ylabel(\"Count of Movies\")\n",
    "plt.title(\"Total number of shows by rating\")"
   ]
  },
  {
   "cell_type": "code",
   "execution_count": 73,
   "id": "06ab0982",
   "metadata": {},
   "outputs": [],
   "source": [
    "df[\"director\"] = df [\"director\"].fillna(\"Unknown\")\n",
    "df[\"cast\"] = df [\"cast\"].fillna(\"Unknown\")\n",
    "df[\"country\"] = df [\"country\"].fillna(\"Unknown\")"
   ]
  },
  {
   "cell_type": "code",
   "execution_count": 74,
   "id": "a7b8657b",
   "metadata": {},
   "outputs": [
    {
     "data": {
      "text/plain": [
       "date_added    11\n",
       "rating        10\n",
       "dtype: int64"
      ]
     },
     "execution_count": 74,
     "metadata": {},
     "output_type": "execute_result"
    }
   ],
   "source": [
    "missing_values = df.isnull().sum()\n",
    "missing_values = missing_values[missing_values>0]\n",
    "missing_values"
   ]
  },
  {
   "cell_type": "code",
   "execution_count": 77,
   "id": "b3947cdf",
   "metadata": {},
   "outputs": [],
   "source": [
    "df[\"date_added\"] = df[\"date_added\"].fillna(df[\"date_added\"].mode()[0])\n",
    "df[\"rating\"] = df[\"rating\"].fillna(df[\"rating\"].mode()[0])"
   ]
  },
  {
   "cell_type": "code",
   "execution_count": 80,
   "id": "b7e6a058",
   "metadata": {},
   "outputs": [
    {
     "data": {
      "text/plain": [
       "Series([], dtype: int64)"
      ]
     },
     "execution_count": 80,
     "metadata": {},
     "output_type": "execute_result"
    }
   ],
   "source": [
    "missing_values = df.isnull().sum()\n",
    "missing_values = missing_values[missing_values>0]\n",
    "missing_values"
   ]
  },
  {
   "cell_type": "code",
   "execution_count": 81,
   "id": "51fdc329",
   "metadata": {},
   "outputs": [
    {
     "data": {
      "text/plain": [
       "<AxesSubplot:>"
      ]
     },
     "execution_count": 81,
     "metadata": {},
     "output_type": "execute_result"
    },
    {
     "data": {
      "image/png": "[encoded data removed]",
      "text/plain": [
       "<Figure size 1800x720 with 3 Axes>"
      ]
     },
     "metadata": {
      "needs_background": "light"
     },
     "output_type": "display_data"
    }
   ],
   "source": [
    "msno.bar(df,color=\"red\")"
   ]
  },
  {
   "cell_type": "code",
   "execution_count": 82,
   "id": "c66344db",
   "metadata": {},
   "outputs": [
    {
     "data": {
      "text/html": [
       "<div>\n",
       "<style scoped>\n",
       "    .dataframe tbody tr th:only-of-type {\n",
       "        vertical-align: middle;\n",
       "    }\n",
       "\n",
       "    .dataframe tbody tr th {\n",
       "        vertical-align: top;\n",
       "    }\n",
       "\n",
       "    .dataframe thead th {\n",
       "        text-align: right;\n",
       "    }\n",
       "</style>\n",
       "<table border=\"1\" class=\"dataframe\">\n",
       "  <thead>\n",
       "    <tr style=\"text-align: right;\">\n",
       "      <th></th>\n",
       "      <th>show_id</th>\n",
       "      <th>type</th>\n",
       "      <th>title</th>\n",
       "      <th>director</th>\n",
       "      <th>cast</th>\n",
       "      <th>country</th>\n",
       "      <th>date_added</th>\n",
       "      <th>release_year</th>\n",
       "      <th>rating</th>\n",
       "      <th>duration</th>\n",
       "      <th>listed_in</th>\n",
       "      <th>description</th>\n",
       "    </tr>\n",
       "  </thead>\n",
       "  <tbody>\n",
       "    <tr>\n",
       "      <th>0</th>\n",
       "      <td>81145628</td>\n",
       "      <td>Movie</td>\n",
       "      <td>Norm of the North: King Sized Adventure</td>\n",
       "      <td>Richard Finn, Tim Maltby</td>\n",
       "      <td>Alan Marriott, Andrew Toth, Brian Dobson, Cole...</td>\n",
       "      <td>United States, India, South Korea, China</td>\n",
       "      <td>September 9, 2019</td>\n",
       "      <td>2019</td>\n",
       "      <td>TV-PG</td>\n",
       "      <td>90 min</td>\n",
       "      <td>Children &amp; Family Movies, Comedies</td>\n",
       "      <td>Before planning an awesome wedding for his gra...</td>\n",
       "    </tr>\n",
       "    <tr>\n",
       "      <th>1</th>\n",
       "      <td>80117401</td>\n",
       "      <td>Movie</td>\n",
       "      <td>Jandino: Whatever it Takes</td>\n",
       "      <td>Unknown</td>\n",
       "      <td>Jandino Asporaat</td>\n",
       "      <td>United Kingdom</td>\n",
       "      <td>September 9, 2016</td>\n",
       "      <td>2016</td>\n",
       "      <td>TV-MA</td>\n",
       "      <td>94 min</td>\n",
       "      <td>Stand-Up Comedy</td>\n",
       "      <td>Jandino Asporaat riffs on the challenges of ra...</td>\n",
       "    </tr>\n",
       "    <tr>\n",
       "      <th>2</th>\n",
       "      <td>70234439</td>\n",
       "      <td>TV Show</td>\n",
       "      <td>Transformers Prime</td>\n",
       "      <td>Unknown</td>\n",
       "      <td>Peter Cullen, Sumalee Montano, Frank Welker, J...</td>\n",
       "      <td>United States</td>\n",
       "      <td>September 8, 2018</td>\n",
       "      <td>2013</td>\n",
       "      <td>TV-Y7-FV</td>\n",
       "      <td>1 Season</td>\n",
       "      <td>Kids' TV</td>\n",
       "      <td>With the help of three human allies, the Autob...</td>\n",
       "    </tr>\n",
       "    <tr>\n",
       "      <th>3</th>\n",
       "      <td>80058654</td>\n",
       "      <td>TV Show</td>\n",
       "      <td>Transformers: Robots in Disguise</td>\n",
       "      <td>Unknown</td>\n",
       "      <td>Will Friedle, Darren Criss, Constance Zimmer, ...</td>\n",
       "      <td>United States</td>\n",
       "      <td>September 8, 2018</td>\n",
       "      <td>2016</td>\n",
       "      <td>TV-Y7</td>\n",
       "      <td>1 Season</td>\n",
       "      <td>Kids' TV</td>\n",
       "      <td>When a prison ship crash unleashes hundreds of...</td>\n",
       "    </tr>\n",
       "    <tr>\n",
       "      <th>4</th>\n",
       "      <td>80125979</td>\n",
       "      <td>Movie</td>\n",
       "      <td>#realityhigh</td>\n",
       "      <td>Fernando Lebrija</td>\n",
       "      <td>Nesta Cooper, Kate Walsh, John Michael Higgins...</td>\n",
       "      <td>United States</td>\n",
       "      <td>September 8, 2017</td>\n",
       "      <td>2017</td>\n",
       "      <td>TV-14</td>\n",
       "      <td>99 min</td>\n",
       "      <td>Comedies</td>\n",
       "      <td>When nerdy high schooler Dani finally attracts...</td>\n",
       "    </tr>\n",
       "  </tbody>\n",
       "</table>\n",
       "</div>"
      ],
      "text/plain": [
       "    show_id     type                                    title  \\\n",
       "0  81145628    Movie  Norm of the North: King Sized Adventure   \n",
       "1  80117401    Movie               Jandino: Whatever it Takes   \n",
       "2  70234439  TV Show                       Transformers Prime   \n",
       "3  80058654  TV Show         Transformers: Robots in Disguise   \n",
       "4  80125979    Movie                             #realityhigh   \n",
       "\n",
       "                   director  \\\n",
       "0  Richard Finn, Tim Maltby   \n",
       "1                   Unknown   \n",
       "2                   Unknown   \n",
       "3                   Unknown   \n",
       "4          Fernando Lebrija   \n",
       "\n",
       "                                                cast  \\\n",
       "0  Alan Marriott, Andrew Toth, Brian Dobson, Cole...   \n",
       "1                                   Jandino Asporaat   \n",
       "2  Peter Cullen, Sumalee Montano, Frank Welker, J...   \n",
       "3  Will Friedle, Darren Criss, Constance Zimmer, ...   \n",
       "4  Nesta Cooper, Kate Walsh, John Michael Higgins...   \n",
       "\n",
       "                                    country         date_added  release_year  \\\n",
       "0  United States, India, South Korea, China  September 9, 2019          2019   \n",
       "1                            United Kingdom  September 9, 2016          2016   \n",
       "2                             United States  September 8, 2018          2013   \n",
       "3                             United States  September 8, 2018          2016   \n",
       "4                             United States  September 8, 2017          2017   \n",
       "\n",
       "     rating  duration                           listed_in  \\\n",
       "0     TV-PG    90 min  Children & Family Movies, Comedies   \n",
       "1     TV-MA    94 min                     Stand-Up Comedy   \n",
       "2  TV-Y7-FV  1 Season                            Kids' TV   \n",
       "3     TV-Y7  1 Season                            Kids' TV   \n",
       "4     TV-14    99 min                            Comedies   \n",
       "\n",
       "                                         description  \n",
       "0  Before planning an awesome wedding for his gra...  \n",
       "1  Jandino Asporaat riffs on the challenges of ra...  \n",
       "2  With the help of three human allies, the Autob...  \n",
       "3  When a prison ship crash unleashes hundreds of...  \n",
       "4  When nerdy high schooler Dani finally attracts...  "
      ]
     },
     "execution_count": 82,
     "metadata": {},
     "output_type": "execute_result"
    }
   ],
   "source": [
    "df.head()"
   ]
  }
 ],
 "metadata": {
  "kernelspec": {
   "display_name": "Python 3 (ipykernel)",
   "language": "python",
   "name": "python3"
  },
  "language_info": {
   "codemirror_mode": {
    "name": "ipython",
    "version": 3
   },
   "file_extension": ".py",
   "mimetype": "text/x-python",
   "name": "python",
   "nbconvert_exporter": "python",
   "pygments_lexer": "ipython3",
   "version": "3.9.7"
  }
 },
 "nbformat": 4,
 "nbformat_minor": 5
}
