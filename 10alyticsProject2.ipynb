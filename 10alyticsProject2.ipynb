{
 "cells": [
  {
   "cell_type": "markdown",
   "id": "917f6dbf",
   "metadata": {},
   "source": [
    "## Section 1 - Number (Integers and Float)"
   ]
  },
  {
   "cell_type": "code",
   "execution_count": 1,
   "id": "e4a7781e",
   "metadata": {},
   "outputs": [],
   "source": [
    "#Create a code that calculates sales tax\n",
    "#Total = #The amount you spent\n",
    "#Tax_percent = #The tax percentage e.g 10%, 20%, 30%, etc\n",
    "#Tax_amt = #The tax percentage multiplied by the total amount\n",
    "#Grand_total = #The total amount less the Tax Amount"
   ]
  },
  {
   "cell_type": "code",
   "execution_count": 5,
   "id": "ad3494f1",
   "metadata": {},
   "outputs": [
    {
     "name": "stdout",
     "output_type": "stream",
     "text": [
      "Your grand total is 9000.0\n"
     ]
    }
   ],
   "source": [
    "total = 10000\n",
    "tax_percent = 0.1\n",
    "tax_amt = tax_percent*10000\n",
    "grand_total = total - tax_amt\n",
    "print (\"Your grand total is {}\". format(grand_total))\n"
   ]
  },
  {
   "cell_type": "code",
   "execution_count": 2,
   "id": "9936abeb",
   "metadata": {},
   "outputs": [],
   "source": [
    "#Create a code that calculates sales tax\n",
    "#Total = #The amount you spent\n",
    "#Tax_percent = #The tax percentage e.g 10%, 20%, 30%, etc\n",
    "#Tax_amt = #The tax percentage multiplied by the total amount\n",
    "#Grand_total = #The total amount less the Tax Amount"
   ]
  },
  {
   "cell_type": "code",
   "execution_count": null,
   "id": "92d16c87",
   "metadata": {},
   "outputs": [],
   "source": [
    "total = int(input(\"what is your total amount:\"))\n",
    "tax_percent = float(input(\"what is your tax_percent:\"))\n",
    "tax_amount = tax_percent * total\n",
    "grand_total = total - tax_amount\n",
    "grand_total"
   ]
  },
  {
   "cell_type": "code",
   "execution_count": 3,
   "id": "350c91e9",
   "metadata": {},
   "outputs": [],
   "source": [
    "#Assign The quick brown fox jumps over the lazy dog to a Variable\n",
    "#Slice the string to obtain quick brown fox\n",
    "#Slice the string to obtain the lazy dog\n",
    "#Use negative Indexing to obtain lazy dog\n",
    "#Obtain the Length of the string"
   ]
  },
  {
   "cell_type": "code",
   "execution_count": 19,
   "id": "f72ceaac",
   "metadata": {},
   "outputs": [
    {
     "data": {
      "text/plain": [
       "['lazy', 'dog']"
      ]
     },
     "execution_count": 19,
     "metadata": {},
     "output_type": "execute_result"
    }
   ],
   "source": [
    "list3 = [\"The\", \"quick\", \"brown\", \"fox\", \"jumps\", \"over\", \"the\", \"lazy\", \"dog\"]\n",
    "list3 [1:4]\n",
    "list3 [7:9]\n",
    "list3 [-2:]\n",
    "len(list3)"
   ]
  },
  {
   "cell_type": "code",
   "execution_count": 4,
   "id": "7f46fcb1",
   "metadata": {},
   "outputs": [],
   "source": [
    "#Using the input Concatenate the code below\n",
    "#Name = What is your name?\n",
    "#Age = How old are you?\n",
    "#State = What is your state of origin?\n",
    "#Profession = What is your profession?\n",
    "#Bio = #Concatenate Name, Age, State and profession"
   ]
  },
  {
   "cell_type": "code",
   "execution_count": 22,
   "id": "c1e56c35",
   "metadata": {},
   "outputs": [
    {
     "name": "stdout",
     "output_type": "stream",
     "text": [
      " What is your name?Abasiofon Moses\n",
      " How old are you?100\n",
      "What is your state of origin?Akwa Ibom \n",
      "What is your Profession?Engineer\n"
     ]
    },
    {
     "data": {
      "text/plain": [
       "'Abasiofon Moses 100 Akwa Ibom  Engineer'"
      ]
     },
     "execution_count": 22,
     "metadata": {},
     "output_type": "execute_result"
    }
   ],
   "source": [
    "name = input (\" What is your name?\")\n",
    "age = input (\" How old are you?\")\n",
    "state = input (\"What is your state of origin?\")\n",
    "profession = input (\"What is your Profession?\")\n",
    "bio = \"My name is {name} + \" \" + age + \" \" + state + \" \" + profession \n",
    "bio\n"
   ]
  },
  {
   "cell_type": "code",
   "execution_count": 5,
   "id": "223236f5",
   "metadata": {},
   "outputs": [],
   "source": [
    "# Create a list of states in Nigeria\n",
    "#Abia\n",
    "#Adamawa\n",
    "#Akwa Ibom\n",
    "#Anambra\n",
    "#Bauchi\n",
    "#Bayelsa\n",
    "#Benue\n",
    "#Borno\n",
    "#Cross River\n",
    "#Nasarawa\n",
    "#Niger\n",
    "#Ogun\n",
    "#Ondo\n",
    "#Osun\n",
    "#Oyo\n",
    "#Plateau\n",
    "#Rivers\n",
    "#Sokoto\n",
    "#Taraba\n",
    "#Yobe\n",
    "#Zamfara\n",
    "#Q2: Index and retrieve the first 10\n",
    "#Q3: Index and retrieve Cross River, Nasarawa, Niger, Ogun, Ondo, Osun, Oyo, Plateau\n",
    "#Q4: Use Negative indexing to retrieve the last 5 states\n",
    "#Q5: Add 4 new states\n",
    "#Q6: Confirm the length of the list\n",
    "#Q7. Remove Bauchi, Oyo and Yobe\n"
   ]
  },
  {
   "cell_type": "code",
   "execution_count": 46,
   "id": "0c721126",
   "metadata": {},
   "outputs": [
    {
     "data": {
      "text/plain": [
       "['Abia',\n",
       " 'Adamawa',\n",
       " 'Akwa Ibom',\n",
       " 'Anambra',\n",
       " 'Bayelsa',\n",
       " 'Benue',\n",
       " 'Borno',\n",
       " 'Cross River',\n",
       " 'Nasarawa',\n",
       " 'Niger',\n",
       " 'Ogun',\n",
       " 'Ondo',\n",
       " 'Osun',\n",
       " 'Plateau',\n",
       " 'Rivers',\n",
       " 'Sokoto',\n",
       " 'Taraba',\n",
       " 'Zamfara',\n",
       " 'Lagos',\n",
       " 'Edo',\n",
       " 'Ekiti',\n",
       " 'Imo',\n",
       " 'Jigawa']"
      ]
     },
     "execution_count": 46,
     "metadata": {},
     "output_type": "execute_result"
    }
   ],
   "source": [
    "list5 = [\"Abia\", \"Adamawa\", \"Akwa Ibom\", \"Anambra\", \"Bauchi\", \"Bayelsa\", \"Benue\", \"Borno\", \"Cross River\", \"Nasarawa\", \"Niger\", \"Ogun\", \"Ondo\", \"Osun\", \"Oyo\", \"Plateau\", \"Rivers\", \"Sokoto\", \"Taraba\", \"Yobe\", \"Zamfara\"]\n",
    "list5[0:11]\n",
    "list5[8:16]\n",
    "list5[-5:]\n",
    "list5.extend([\"Lagos\", \"Edo\", \"Ekiti\", \"Imo\", \"Jigawa\"])\n",
    "len(list5)\n",
    "del list5[4]\n",
    "del list5[13]\n",
    "del list5[17]\n",
    "list5"
   ]
  },
  {
   "cell_type": "code",
   "execution_count": 25,
   "id": "87610253",
   "metadata": {},
   "outputs": [],
   "source": [
    "#Q1: Create a dictionary of states and governor in Nigeria\n",
    "\n",
    "#Abia State: nil\n",
    "#Anambra State: Willie Obiano\n",
    "#Benue State: Samuel Ortom\n",
    "#Delta State: Ifeanyi Okowa\n",
    "#Ekiti State: nil\n",
    "#Lagos State: Babajide Sanwo-Olu\n",
    "#Plateau State: Simon Lalong\n",
    "#Taraba State: Arch. Darius Ishaku\n",
    "#Kogi State: Yahaya Bello\n",
    "#Anambra State: Willie Obiano\n",
    "\n",
    "#Q2: update Abia and Ekiti (Okezie Ikpeazu, Kayode Fayemi)\n",
    "\n",
    "#Q3: Add\n",
    "#Cross River State: Benedict Ayade\n",
    "#Ebonyi State: Dave Umahi\n",
    "#Sokoto State: Aminu Waziri Tambuwal\n",
    "\n",
    "#Q4: Remove Ondo, Sokoto, taraba and Kogi from the dictionary\n"
   ]
  },
  {
   "cell_type": "code",
   "execution_count": 55,
   "id": "ffdfeda4",
   "metadata": {},
   "outputs": [],
   "source": [
    "dict1 = {\"Abia State\": \" \", \"Anambra State\": \"Willie Obiana\", \"Benue State\": \"Samuel Ortom\", \"Delta State\": \"Ifeanyi Okowa\", \"Ekiti State\": \" \", \"Lagos State\": \"Babajide Sanwo-Olu\", \"Plateau State\": \"Simon Lalong\", \"Taraba State\": \"Arch. Darius Ishaku\", \"Kogi State\": \"Yahaya Bello\", \"Anambra State\": \"Willie Obiano\"}\n",
    "dict1\n",
    "dict1.update({\"Abia State\": \"Okezie Ikpeazu\", \"Ekiti State\": \"Kayode Fayemi\"})\n",
    "dict1\n",
    "dict1[\"Cross River State\"] = \"Benedict Ayade\"\n",
    "dict1[\"Ebonyi State\"] = \"Dave Umahi\"\n",
    "dict1[\"Sokoto State\"] = \"Aminu Waziri Tambuwal\"\n",
    "dict1\n",
    "del dict1[\"Sokoto State\"]\n",
    "del dict1[\"Taraba State\"]\n",
    "del dict1[\"Kogi State\"]"
   ]
  },
  {
   "cell_type": "code",
   "execution_count": 7,
   "id": "403583d9",
   "metadata": {},
   "outputs": [],
   "source": [
    "# Write an If function that will get input from the user for their age and classify the age as:\n",
    "\n",
    "#Toddler (0 – 12)\n",
    "#Teenage (13 - 19)\n",
    "#Youth (20 – 35)\n",
    "#Adult (36 – 45)\n",
    "#Elder (46 and above)\n",
    "#Print (your age is {} and you are a {})\n"
   ]
  },
  {
   "cell_type": "code",
   "execution_count": 63,
   "id": "b4d8a1da",
   "metadata": {},
   "outputs": [
    {
     "name": "stdout",
     "output_type": "stream",
     "text": [
      "What is your age?34\n",
      "Youth\n",
      " Your age is 34 and you are a Youth\n"
     ]
    }
   ],
   "source": [
    "age = int (input (\"What is your age?\"))\n",
    "if age >=46:\n",
    "    category = \"Elder\"\n",
    "elif age  >= 36:\n",
    "    category = \"Adult\"\n",
    "elif age >= 20:\n",
    "    category = \"Youth\"\n",
    "elif age >= 13:\n",
    "    category = \"Teenage\"\n",
    "else:\n",
    "    category = \"Toddler\"\n",
    "\n",
    "print (f\" Your age is {age} and you are a {category}\")"
   ]
  },
  {
   "cell_type": "code",
   "execution_count": 8,
   "id": "0c3f918a",
   "metadata": {},
   "outputs": [],
   "source": [
    "#Write a programme that will: (using a for loop)\n",
    "\n",
    "#Get input about the investment amount\n",
    "#Get input of number of years\n",
    "#Calculate yearly interest (<=5 years:5%, <=10yrs:10%, 11>:15%)\n",
    "#Calculate investment amount\n",
    "#Display all the necessary details"
   ]
  },
  {
   "cell_type": "code",
   "execution_count": 15,
   "id": "f39437ed",
   "metadata": {},
   "outputs": [
    {
     "name": "stdout",
     "output_type": "stream",
     "text": [
      " What is the investment amount?89000\n",
      " What is the number of years?98\n",
      "Your total loan amount is:  102350.0\n",
      "Your total Interest is:  13350.0\n"
     ]
    }
   ],
   "source": [
    "investment_amount = int (input (\" What is the investment amount?\"))\n",
    "noy = int (input (\" What is the number of years?\"))\n",
    "int_rate = 0\n",
    "\n",
    "if noy <= 5:\n",
    "    yinterest = 0.05\n",
    "elif noy <= 10:\n",
    "    yinterest = 0.10\n",
    "else:\n",
    "    yinterest = 0.15\n",
    "    for i in range(noy):\n",
    "        yearly_interest = investment_amount * yinterest\n",
    "    investment_amount += yearly_interest\n",
    "    int_rate += yearly_interest\n",
    "        \n",
    "print(\"Your total loan amount is: \"+ \" \" + str(round(investment_amount, 2)))\n",
    "print(\"Your total Interest is: \"+ \" \" + str(round(int_rate, 2)))\n",
    "\n"
   ]
  },
  {
   "cell_type": "markdown",
   "id": "84cff751",
   "metadata": {},
   "source": [
    "### Write a programme that will: (using a while loop)\n",
    "#Answer = input(yes/no)\n",
    "\n",
    "#While answer = yes #Print(calculate your average score) #Get score for Mathematics, English, Geography, Accounting and Physics from the user. #Calculate the average score of all scores #Write an if function that will grade the average score into (A, B, C, D, E, F) #Print (Your average score is {}) #Print (Your grade is {}) #Answer = input(do you want to calculate your average score)"
   ]
  },
  {
   "cell_type": "code",
   "execution_count": 8,
   "id": "8f6c0d30",
   "metadata": {},
   "outputs": [
    {
     "name": "stdout",
     "output_type": "stream",
     "text": [
      "Do you want to calculate your avergae score?no\n",
      "Goodbye\n"
     ]
    }
   ],
   "source": [
    "answer = input (\"Do you want to calculate your avergae score?\")\n",
    "while answer == \"yes\":\n",
    "    print(\"Calculate your average score\")\n",
    "    mathematics = int (input (\"What is your mathematics score?\"))\n",
    "    english = int (input (\"What is your english score?\"))\n",
    "    geography = int (input (\"What is your geography score?\"))\n",
    "    accounting = int (input (\"What is your accounting score?\"))\n",
    "    physics = int (input (\"What is your physics score?\"))\n",
    "    average_score = int((mathematics + english + geography + accounting + physics)/5)\n",
    "    if average_score >= 70:\n",
    "        grade = \"A\"\n",
    "    elif average_score >= 60:\n",
    "        grade = \"B\"\n",
    "    elif average_score >= 50:\n",
    "        grade = \"C\"\n",
    "    elif average_score >= 45:\n",
    "        grade = \"D\"\n",
    "    elif average_score >= 40:\n",
    "        grade = \"E\"\n",
    "    else:\n",
    "        grade = \"F\"\n",
    "    print(f\"Your average score is {average_score}\")\n",
    "    print(f\"your grade is {grade}\")\n",
    "    \n",
    "    answer = input(\"do you want to calculate your average score\")\n",
    "print(\"Goodbye\")"
   ]
  },
  {
   "cell_type": "code",
   "execution_count": 6,
   "id": "fa80f843",
   "metadata": {},
   "outputs": [
    {
     "name": "stdout",
     "output_type": "stream",
     "text": [
      "The test score program\n",
      "--------------------------\n",
      "Enter 3 test score\n",
      "-----------------------------------\n",
      "enter your test score: 20\n",
      "enter your test score: 20\n",
      "enter your test score: 20\n",
      "-----------------------------------\n",
      "total_score:  60.0  Average_Score:  20\n",
      "\n",
      "Bye\n"
     ]
    }
   ],
   "source": [
    "#Print(The test score program)\t\n",
    "#Print(--------------------------)\n",
    "#Print(Enter 3 test score)\n",
    "#Print(-----------------------------------)\n",
    "#Total_score = 0\n",
    "#Total_score += float(input(enter your test score: )\n",
    "#Total_score += float(input(enter your test score: )\n",
    "#Total_score += float(input(enter your test score: )\n",
    "#Average_score = round(total_score/3))\n",
    "#Print(-----------------------------------)\n",
    "#Print(total score: , total_score, Average_Score: , Average_Score)\n",
    "#Print()\n",
    "#Print(Bye)\n",
    "\n",
    "#--------------- Write your code below----------------------------#\n",
    "print(\"The test score program\")\n",
    "print(\"--------------------------\")\n",
    "print(\"Enter 3 test score\")\n",
    "print(\"-----------------------------------\")\n",
    "total_score = 0\n",
    "total_score += float(input(\"enter your test score: \"))\n",
    "total_score += float(input(\"enter your test score: \"))\n",
    "total_score += float(input(\"enter your test score: \"))\n",
    "average_score = round(total_score/3)\n",
    "print(\"-----------------------------------\")\n",
    "print(\"total_score: \", total_score,\" Average_Score: \", average_score)\n",
    "print()\n",
    "print(\"Bye\")"
   ]
  },
  {
   "cell_type": "code",
   "execution_count": 10,
   "id": "91075a8f",
   "metadata": {},
   "outputs": [
    {
     "name": "stdout",
     "output_type": "stream",
     "text": [
      "To calculate your total score\n",
      "-----------------------\n",
      "what is your score: 90\n",
      "what is your score: 100\n",
      "what is your score: 230\n",
      "Your score should be between 0 - 100\n",
      "------------\n",
      "Your final score is 190\n"
     ]
    }
   ],
   "source": [
    "score = 0\n",
    "\n",
    "print(\"To calculate your total score\")\n",
    "print(\"-----------------------\")\n",
    "for i in range(0,3):\n",
    "        records = int(input(f\"what is your score: \"))\n",
    "        if records >= 0 and records <=100:\n",
    "            score += records\n",
    "        else:\n",
    "            print(\"Your score should be between 0 - 100\")\n",
    "            print(\"------------\")\n",
    "\n",
    "print(f\"Your final score is {score}\")"
   ]
  },
  {
   "cell_type": "code",
   "execution_count": 11,
   "id": "b3e5b57e",
   "metadata": {},
   "outputs": [
    {
     "name": "stdout",
     "output_type": "stream",
     "text": [
      "To calculate your total score\n",
      "\n",
      "what is your 1 score: 89\n",
      "what is your 2 score: 90\n",
      "what is your 3 score: 99\n",
      "\n",
      "Your final score is 278\n"
     ]
    }
   ],
   "source": [
    "period = range(1,4)\n",
    "score = 0\n",
    "\n",
    "print(\"To calculate your total score\")\n",
    "print()\n",
    "for i in period:\n",
    "    records = int(input(f\"what is your {i} score: \"))\n",
    "    score += records\n",
    "print()\n",
    "print(f\"Your final score is {score}\")"
   ]
  },
  {
   "cell_type": "code",
   "execution_count": null,
   "id": "99fa2bc8",
   "metadata": {},
   "outputs": [],
   "source": [
    "#Write a programme that will: \n",
    "\n",
    "#Investment Amount = input()\n",
    "#Customer type = input(corporate, retail, walk-in)\n",
    "#payment = input(cash, card)\n",
    "\n",
    "#Interest\n",
    "#Customer type (corporate) and Payment (Cash)\n",
    "#<500,000 = 10%\n",
    "#>=500,000 = 15%\n",
    "#>=1,000,000 = 20%\n",
    "#>=2,000,000 = 25%\n",
    "#Customer type (corporate) and Payment (card)\n",
    "#<500,000 = 10.5%\n",
    "#>=500,000 = 15.5%\n",
    "#>=1,000,000 = 20.5%\n",
    "#>=2,000,000 = 25.5%\n",
    "\n",
    "#Customer type (retail) and Payment (Cash)\n",
    "#Retail\n",
    "#<500,000 = 5%\n",
    "#>=500,000 = 10%\n",
    "#>=1,000,000 = 15%\n",
    "#>=2,000,000 = 20%\n",
    "#Customer type (retail) and Payment (card)\n",
    "#<500,000 = 5.5%\n",
    "#>=500,000 = 10.5%\n",
    "#>=1,000,000 = 15.5%\n",
    "#>=2,000,000 = 20.5%\n",
    "\n",
    "#Customer type (walk-in) and Payment (Cash)\n",
    "#<500,000 = 2%\n",
    "#>=500,000 = 8%\n",
    "#>=1,000,000 = 10%\n",
    "#>=2,000,000 = 15%\n",
    "#Customer type (Walk-in) and Payment (card)\n",
    "#<500,000 = 2.5%\n",
    "#>=500,000 = 8.5%\n",
    "#>=1,000,000 = 10.5%\n",
    "#>=2,000,000 = 15.5%\n",
    "\n",
    "#else Customer must be corporate, retail, walk-in\n",
    "#Print all the necessary details\n",
    "\n",
    "#--------------- Write your code below----------------------------#\n",
    "\n",
    "invest_amt = int(input(\"What is your investment amount: \"))\n",
    "cust_type = input(\"what type customer are you (corporate, retail or walk-in): \")\n",
    "payment = input(\"what is your payment type (cash or card): \")\n",
    "\n",
    "\n",
    "print(\"----------------------------------\")\n",
    "\n",
    "\n",
    "if cust_type == \"corporate\" and payment == \"cash\":\n",
    "    if invest_amt < 500000 :\n",
    "        interest = 0.10\n",
    "    elif invest_amt >= 500000:\n",
    "        interest = 0.15\n",
    "    elif invest_amt >= 1000000:\n",
    "        interest = 0.2\n",
    "    elif invest_amt >= 2000000:\n",
    "        interest = 0.25\n",
    "if cust_type == \"corporate\" and payment == \"card\":\n",
    "    if invest_amt < 500000 :\n",
    "        interest = 0.10\n",
    "    elif invest_amt >= 500000:\n",
    "        interest = 0.15\n",
    "    elif invest_amt >= 1000000:\n",
    "        interest = 0.2\n",
    "    elif invest_amt >= 2000000:\n",
    "        interest = 0.25\n",
    "        \n",
    "if cust_type == \"retail\" and payment == \"cash\":\n",
    "    if invest_amt < 500000 :\n",
    "        interest = 0.10\n",
    "    elif invest_amt >= 500000:\n",
    "        interest = 0.15\n",
    "    elif invest_amt >= 1000000:\n",
    "        interest = 0.2\n",
    "    elif invest_amt >= 2000000:\n",
    "        interest = 0.25\n",
    "if cust_type == \"retail\" and payment == \"card\":\n",
    "    if invest_amt < 500000 :\n",
    "        interest = 0.10\n",
    "    elif invest_amt >= 500000:\n",
    "        interest = 0.15\n",
    "    elif invest_amt >= 1000000:\n",
    "        interest = 0.2\n",
    "    elif invest_amt >= 2000000:\n",
    "        interest = 0.25\n",
    "        \n",
    "if cust_type == \"walk-in\" and payment == \"cash\":\n",
    "    if invest_amt < 500000 :\n",
    "        interest = 0.10\n",
    "    elif invest_amt >= 500000:\n",
    "        interest = 0.15\n",
    "    elif invest_amt >= 1000000:\n",
    "        interest = 0.2\n",
    "    elif invest_amt >= 2000000:\n",
    "        interest = 0.25\n",
    "if cust_type == \"walk-in\" and payment == \"card\":\n",
    "    if invest_amt < 500000 :\n",
    "        interest = 0.10\n",
    "    elif invest_amt >= 500000:\n",
    "        interest = 0.15\n",
    "    elif invest_amt >= 1000000:\n",
    "        interest = 0.2\n",
    "    elif invest_amt >= 2000000:\n",
    "        interest = 0.25\n",
    "        \n",
    "tot_amt = invest_amt - (invest_amt * interest)\n",
    "\n",
    "print(f\"total amount is {invest_amt}\")\n",
    "print(f\"based on your customer type and amount, your interest is {interest}\")\n",
    "print(f\"total amount to be paid {tot_amt}\")"
   ]
  }
 ],
 "metadata": {
  "kernelspec": {
   "display_name": "Python 3 (ipykernel)",
   "language": "python",
   "name": "python3"
  },
  "language_info": {
   "codemirror_mode": {
    "name": "ipython",
    "version": 3
   },
   "file_extension": ".py",
   "mimetype": "text/x-python",
   "name": "python",
   "nbconvert_exporter": "python",
   "pygments_lexer": "ipython3",
   "version": "3.9.7"
  }
 },
 "nbformat": 4,
 "nbformat_minor": 5
}
